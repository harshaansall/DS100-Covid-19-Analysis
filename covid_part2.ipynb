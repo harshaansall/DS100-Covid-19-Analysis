{
 "cells": [
  {
   "cell_type": "code",
   "execution_count": null,
   "id": "7742c77f",
   "metadata": {
    "deletable": false,
    "editable": false
   },
   "outputs": [],
   "source": [
    "# Initialize Otter\n",
    "import otter\n",
    "grader = otter.Notebook(\"covid_part2.ipynb\")"
   ]
  },
  {
   "cell_type": "markdown",
   "id": "02b82b09",
   "metadata": {},
   "source": [
    "# Final Project: COVID-19 Dataset\n",
    "## Exploring COVID-19 Data through Modeling\n",
    "## Due Date: Thursday, December 13th, 11:59 PM\n",
    "## Collaboration Policy\n",
    "\n",
    "Data science is a collaborative activity. While you may talk with other groups about\n",
    "the project, we ask that you **write your solutions individually**. If you do\n",
    "discuss the assignments with others outside of your group please **include their names** at the top\n",
    "of your notebook."
   ]
  },
  {
   "cell_type": "markdown",
   "id": "cb908b16",
   "metadata": {},
   "source": [
    "\n",
    "## This Assignment\n",
    "\n",
    "In this final project, we will investigate COVID-19 data over the past year. This data contains information about COVID-19 case counts, mortalities, vaccination rates, and various other metadata that can assist in modeling various aspects of COVID-19.\n",
    "\n",
    "Through this final project, you will demonstrate your experience with:\n",
    "* Data cleaning and EDA using Pandas\n",
    "* Unsupervised and supervised learning techniques\n",
    "* Visualization\n"
   ]
  },
  {
   "cell_type": "markdown",
   "id": "2a2811cb",
   "metadata": {},
   "source": [
    "## Goal\n",
    "\n",
    "Model and analyze the temporal evolution of COVID-19 mortalities or cases using one unsupervised and one supervised technique of your choice. Interpret your models' results through visualizations, and draw insightful conclusions about the modeling of COVID-19 data.\n",
    "\n",
    "Recall that we studied linear and logistic regression, decision trees, random forests as part of supervised learning (with labels) and clustering, PCA as part of unsupervised learning (without labels). You are free to use any methods that you find suitable to answer the problem at hand."
   ]
  },
  {
   "cell_type": "code",
   "execution_count": null,
   "id": "9c01af05",
   "metadata": {},
   "outputs": [],
   "source": [
    "# Run this cell to set up your notebook\n",
    "import numpy as np\n",
    "from geopy import *\n",
    "import pandas as pd\n",
    "from sklearn.linear_model import LinearRegression\n",
    "from sklearn.model_selection import train_test_split\n",
    "from sklearn.cluster import *\n",
    "import matplotlib.pyplot as plt\n",
    "import seaborn as sns\n",
    "\n",
    "import warnings\n",
    "warnings.filterwarnings(\"ignore\")\n",
    "\n",
    "import plotly.graph_objects as go\n",
    "import plotly.express as px\n",
    "from plotly.subplots import make_subplots\n",
    "from scipy.stats import pearsonr\n",
    "import re\n",
    "\n",
    "cases = pd.read_csv('data/time_series_covid19_confirmed_US.csv') # https://github.com/CSSEGISandData/COVID-19/blob/master/csse_covid_19_data/csse_covid_19_time_series/time_series_covid19_confirmed_US.csv\n",
    "vaccinations = pd.read_csv('data/people_vaccinated_us_timeline.csv') # https://raw.githubusercontent.com/govex/COVID-19/master/data_tables/vaccine_data/us_data/time_series/people_vaccinated_us_timeline.csv\n",
    "counties = pd.read_csv('data/co-est2020.csv', encoding='latin-1') # https://www2.census.gov/programs-surveys/popest/datasets/2010-2020/counties/totals/co-est2020.csv\n",
    "mask_use = pd.read_csv('data/mask-use-by-county.csv') # https://github.com/nytimes/covid-19-data/blob/master/mask-use/mask-use-by-county.csv\n",
    "deaths = pd.read_csv('data/time_series_covid19_deaths.csv') #https://github.com/CSSEGISandData/COVID-19/blob/master/csse_covid_19_data/csse_covid_19_time_series/time_series_covid19_deaths_US.csv \n"
   ]
  },
  {
   "cell_type": "markdown",
   "id": "1f4b18d3",
   "metadata": {},
   "source": [
    "<br/><br/><br/>\n",
    "\n",
    "---\n",
    "\n",
    "<br/><br/><br/>\n",
    "\n",
    "## Data Cleaning (Again!)\n",
    "\n",
    "For this section, please copy over the appropriate answers from your previous notebook submission."
   ]
  },
  {
   "cell_type": "markdown",
   "id": "f4e6efb9",
   "metadata": {
    "deletable": false,
    "editable": false
   },
   "source": [
    "### Part 1: Question 1a\n",
    "\n",
    "Impute the null values in *all* the datasets with zero values or empty strings where appropriate.\n",
    "\n",
    "<!--\n",
    "BEGIN QUESTION\n",
    "name: q1a\n",
    "points: 0\n",
    "-->"
   ]
  },
  {
   "cell_type": "code",
   "execution_count": null,
   "id": "dd43134a",
   "metadata": {},
   "outputs": [],
   "source": [
    "cases = cases.fillna(0)\n",
    "vaccinations = vaccinations.fillna(0)"
   ]
  },
  {
   "cell_type": "code",
   "execution_count": null,
   "id": "f42e23fb",
   "metadata": {
    "deletable": false,
    "editable": false
   },
   "outputs": [
    {
     "data": {
      "text/html": [
       "<p><strong><pre style='display: inline;'>q1a</pre></strong> passed!</p>"
      ],
      "text/plain": [
       "q1a results: All test cases passed!"
      ]
     },
     "execution_count": 274,
     "metadata": {},
     "output_type": "execute_result"
    }
   ],
   "source": [
    "grader.check(\"q1a\")"
   ]
  },
  {
   "cell_type": "markdown",
   "id": "32fdc73c",
   "metadata": {
    "deletable": false,
    "editable": false
   },
   "source": [
    "### Part 1: Question 1d\n",
    "\n",
    "Generate a valid FIPS code for the `counties` table.\n",
    "\n",
    "*Hint*: Refer to [this](https://transition.fcc.gov/oet/info/maps/census/fips/fips.txt) guide on FIPS codes.\n",
    "\n",
    "<!--\n",
    "BEGIN QUESTION\n",
    "name: q1d\n",
    "points: 0\n",
    "-->"
   ]
  },
  {
   "cell_type": "code",
   "execution_count": null,
   "id": "8869affb",
   "metadata": {},
   "outputs": [],
   "source": [
    "fips_lst = []\n",
    "code = 0\n",
    "for i in range(len(counties)):\n",
    "    if counties.iloc[i, :]['CTYNAME'] == counties.iloc[i, :]['STNAME'] and counties.iloc[i, :]['CTYNAME'] in counties['STNAME']:\n",
    "        code = float(counties.iloc[i, :]['STATE'])\n",
    "        fips_lst.append(int(code))\n",
    "        code = 0\n",
    "    else:\n",
    "        code += 1000 * counties.iloc[i, :]['STATE'] + counties.iloc[i, :]['COUNTY']\n",
    "        fips_lst.append(int(code))\n",
    "        code = 0\n",
    "counties['FIPS'] = fips_lst"
   ]
  },
  {
   "cell_type": "code",
   "execution_count": null,
   "id": "f936214a",
   "metadata": {
    "deletable": false,
    "editable": false
   },
   "outputs": [
    {
     "data": {
      "text/html": [
       "<p><strong><pre style='display: inline;'>q1d</pre></strong> passed!</p>"
      ],
      "text/plain": [
       "q1d results: All test cases passed!"
      ]
     },
     "execution_count": 276,
     "metadata": {},
     "output_type": "execute_result"
    }
   ],
   "source": [
    "grader.check(\"q1d\")"
   ]
  },
  {
   "cell_type": "markdown",
   "id": "5851d0b6",
   "metadata": {
    "deletable": false,
    "editable": false
   },
   "source": [
    "### Part 1: Question 1e\n",
    "\n",
    "Merge the `counties`, `cases`, and `mask_use` tables on an appropriate primary key to generate county-wise data.\n",
    "\n",
    "<!--\n",
    "BEGIN QUESTION\n",
    "name: q1e\n",
    "points: 0\n",
    "-->"
   ]
  },
  {
   "cell_type": "code",
   "execution_count": null,
   "id": "3730e8a2",
   "metadata": {},
   "outputs": [],
   "source": [
    "mask_copy = mask_use.copy()\n",
    "mask_copy = mask_copy.rename(columns = {'COUNTYFP': 'FIPS'})\n",
    "df_concat = [counties, cases, mask_copy]\n",
    "df_concat = [df.set_index('FIPS') for df in df_concat]\n",
    "df_concat = df_concat[0].join(df_concat[1:], how = 'inner').fillna(0)\n",
    "county_data = df_concat.reset_index()\n",
    "county_data['COUNTYFP'] = [mask_use['COUNTYFP'][i] for i in range(len(county_data) + 1) if mask_use['COUNTYFP'][i] in list(county_data['FIPS'])]\n"
   ]
  },
  {
   "cell_type": "code",
   "execution_count": null,
   "id": "7a0a0793",
   "metadata": {
    "deletable": false,
    "editable": false
   },
   "outputs": [
    {
     "data": {
      "text/html": [
       "<p><strong><pre style='display: inline;'>q1e</pre></strong> passed!</p>"
      ],
      "text/plain": [
       "q1e results: All test cases passed!"
      ]
     },
     "execution_count": 278,
     "metadata": {},
     "output_type": "execute_result"
    }
   ],
   "source": [
    "grader.check(\"q1e\")"
   ]
  },
  {
   "cell_type": "markdown",
   "id": "b7bb5b84",
   "metadata": {
    "tags": []
   },
   "source": [
    "<br/><br/><br/>\n",
    "\n",
    "---\n",
    "\n",
    "<br/><br/><br/>\n",
    "\n",
    "## Question 5: Guided Supervised Modeling\n",
    "\n",
    "This section will guide you through creating a supervised learning framework that will predict the number of COVID-19 cases per capita given various COVID-19 safety protocols that have been implemented. Then, we will investigate the bias, variance, and observational noise of this framework.\n",
    "\n",
    "Note that any answer responses without the appropriate work (i.e. code or math) will be subject to additional review and will not receive any credit."
   ]
  },
  {
   "cell_type": "markdown",
   "id": "a94355a0",
   "metadata": {
    "deletable": false,
    "editable": false
   },
   "source": [
    "<!-- BEGIN QUESTION -->\n",
    "\n",
    "### Question 5a\n",
    "\n",
    "We will use county-wise mask usage data to predict the number of COVID-19 cases on September 12th, 2021. Create a visualization that shows the pairwise correlation between each combination of column in the mask usage data and the number of COVID-19 cases.\n",
    "\n",
    "*Hint*: You should be plotting 36 correlations.\n",
    "<!--\n",
    "BEGIN QUESTION\n",
    "name: q5a\n",
    "points: 3\n",
    "manual: True\n",
    "-->"
   ]
  },
  {
   "cell_type": "code",
   "execution_count": null,
   "id": "98cbca46",
   "metadata": {},
   "outputs": [
    {
     "data": {
      "image/png": "[encoded data removed]",
      "text/plain": [
       "<Figure size 432x288 with 2 Axes>"
      ]
     },
     "metadata": {
      "needs_background": "light"
     },
     "output_type": "display_data"
    }
   ],
   "source": [
    "df_5a = county_data.loc[:, ['NEVER', 'RARELY','SOMETIMES','FREQUENTLY', 'ALWAYS']]\n",
    "df_5a['total_covid_cases'] = county_data.loc[:, '1/22/20':'9/12/21'].sum(axis=1)\n",
    "dataplot = sns.heatmap(df_5a.corr(), cmap=\"YlGnBu\", annot=True)"
   ]
  },
  {
   "cell_type": "markdown",
   "id": "d8860eb5",
   "metadata": {
    "deletable": false,
    "editable": false
   },
   "source": [
    "<!-- END QUESTION -->\n",
    "\n",
    "### Question 5b\n",
    "\n",
    "Train a linear regression model to predict the number of COVID-19 cases using county-wise mask usage data for September 12, 2021. Evaluate your model's RMSE on a held-out validation set with 33% of the county-wise data. When possible, make sure to set `random_state = 42` when splitting your data into training and test sets.\n",
    "<!--\n",
    "BEGIN QUESTION\n",
    "name: q5b\n",
    "points: 5\n",
    "-->"
   ]
  },
  {
   "cell_type": "code",
   "execution_count": null,
   "id": "c917813e",
   "metadata": {},
   "outputs": [
    {
     "data": {
      "text/plain": [
       "(27834.430707426982, 62591.13087482178)"
      ]
     },
     "execution_count": 280,
     "metadata": {},
     "output_type": "execute_result"
    }
   ],
   "source": [
    "dfsep12 = county_data[['COUNTYFP', 'NEVER','RARELY','SOMETIMES','FREQUENTLY','ALWAYS','9/12/21','POPESTIMATE2020']]\n",
    "X_q5b = dfsep12[['NEVER','RARELY','SOMETIMES','FREQUENTLY','ALWAYS']]\n",
    "y_q5b = dfsep12['9/12/21']\n",
    "\n",
    "# Make sure to set random_state = 42 and test_size = 0.33!\n",
    "X_q5b_train, X_q5b_test, y_q5b_train, y_q5b_test =  train_test_split(X_q5b, y_q5b, test_size = .33, random_state = 42)\n",
    "\n",
    "import sklearn.linear_model as lm\n",
    "\n",
    "linear_model = lm.LinearRegression()\n",
    "\n",
    "linear_model.fit(X_q5b_train, y_q5b_train)\n",
    "\n",
    "Y_pred = linear_model.predict(X_q5b_test)\n",
    "\n",
    "def rmse(actual_y, predicted_y):\n",
    "    error = actual_y - predicted_y\n",
    "    sq_error = error ** 2\n",
    "    mean = np.mean(sq_error)\n",
    "    return np.sqrt(mean)\n",
    "\n",
    "train_rmse_cases, test_rmse_cases =  rmse(y_q5b_train, linear_model.predict(X_q5b_train)), rmse(y_q5b_test, linear_model.predict(X_q5b_test))\n",
    "train_rmse_cases, test_rmse_cases"
   ]
  },
  {
   "cell_type": "code",
   "execution_count": null,
   "id": "6d3bcbd5",
   "metadata": {
    "deletable": false,
    "editable": false
   },
   "outputs": [
    {
     "data": {
      "text/html": [
       "<p><strong><pre style='display: inline;'>q5b</pre></strong> passed!</p>"
      ],
      "text/plain": [
       "q5b results: All test cases passed!"
      ]
     },
     "execution_count": 281,
     "metadata": {},
     "output_type": "execute_result"
    }
   ],
   "source": [
    "grader.check(\"q5b\")"
   ]
  },
  {
   "cell_type": "markdown",
   "id": "a07da3a5",
   "metadata": {
    "deletable": false,
    "editable": false
   },
   "source": [
    "<!-- BEGIN QUESTION -->\n",
    "\n",
    "### Question 5c\n",
    "\n",
    "Explain potential reasons the test set RMSE is much higher as compared to the training set RMSE.\n",
    "<!--\n",
    "BEGIN QUESTION\n",
    "name: q5c\n",
    "points: 3\n",
    "manual: True\n",
    "-->"
   ]
  },
  {
   "cell_type": "markdown",
   "id": "4fd63a7d",
   "metadata": {},
   "source": [
    "The reason the test set RMSE is much higher compared to the training set RMSE is because there is potential \"overfitting\" of the data, such that we're introducing too many features into the complexity of our model. Another potential reason is that we might not have enough training dataset compared to the testing dataset. "
   ]
  },
  {
   "cell_type": "markdown",
   "id": "5bbbb97c",
   "metadata": {
    "deletable": false,
    "editable": false
   },
   "source": [
    "<!-- END QUESTION -->\n",
    "\n",
    "### Question 5d\n",
    "\n",
    "Instead of predicting the number of COVID-19 cases, redo part (b) by predicting the number of cases per capita. Report the model's RMSE on the training and validation set.\n",
    "\n",
    "Comment on the relationship between the training and test RMSE by predicting the number of cases per capita instead of the total number of cases.\n",
    "<!--\n",
    "BEGIN QUESTION\n",
    "name: q5d\n",
    "points: 3\n",
    "-->"
   ]
  },
  {
   "cell_type": "code",
   "execution_count": null,
   "id": "85dfd858",
   "metadata": {},
   "outputs": [],
   "source": [
    "X_q5d = dfsep12[['NEVER','RARELY','SOMETIMES','FREQUENTLY','ALWAYS']]\n",
    "y_q5d = dfsep12['9/12/21'].divide(dfsep12['POPESTIMATE2020'], axis = 0)\n",
    "\n",
    "X_q5d_train, X_q5d_test, y_q5d_train, y_q5d_test = train_test_split(X_q5d, y_q5d, test_size = .33, random_state = 42)\n",
    "\n",
    "\n",
    "linear_model = lm.LinearRegression()\n",
    "\n",
    "linear_model.fit(X_q5d_train, y_q5d_train)\n",
    "\n",
    "Y_pred_5d = linear_model.predict(X_q5d_test)\n",
    "\n",
    "\n",
    "train_rmse_cpc, test_rmse_cpc = rmse(y_q5d_train, linear_model.predict(X_q5d_train)), rmse(y_q5d_test, linear_model.predict(X_q5d_test))\n",
    "\n",
    "# The training and testing rmse were pretty similar when we were predicting the number of cases per capita instead of the total number of cases"
   ]
  },
  {
   "cell_type": "code",
   "execution_count": null,
   "id": "bdbcb703",
   "metadata": {
    "deletable": false,
    "editable": false
   },
   "outputs": [
    {
     "data": {
      "text/html": [
       "<p><strong><pre style='display: inline;'>q5d</pre></strong> passed!</p>"
      ],
      "text/plain": [
       "q5d results: All test cases passed!"
      ]
     },
     "execution_count": 283,
     "metadata": {},
     "output_type": "execute_result"
    }
   ],
   "source": [
    "grader.check(\"q5d\")"
   ]
  },
  {
   "cell_type": "markdown",
   "id": "5c2215f3",
   "metadata": {
    "deletable": false,
    "editable": false
   },
   "source": [
    "<!-- BEGIN QUESTION -->\n",
    "\n",
    "### Question 5e\n",
    "\n",
    "Visualize the model outputs from part (d) by plotting the predictions $\\hat{y}$ versus the observations $y$. Comment on what the plot indicates about our linear model as a comment in the code cell.\n",
    "\n",
    "<!--\n",
    "BEGIN QUESTION\n",
    "name: q5e\n",
    "points: 3\n",
    "manual: True\n",
    "-->"
   ]
  },
  {
   "cell_type": "code",
   "execution_count": null,
   "id": "8e59258f",
   "metadata": {},
   "outputs": [
    {
     "data": {
      "image/png": "[encoded data removed]",
      "text/plain": [
       "<Figure size 432x288 with 1 Axes>"
      ]
     },
     "metadata": {
      "needs_background": "light"
     },
     "output_type": "display_data"
    }
   ],
   "source": [
    "plt.scatter(y_q5d_test, Y_pred_5d, alpha=0.5)\n",
    "plt.xlabel(\"Cases\")\n",
    "plt.ylabel(\"Predicted Cases\")\n",
    "plt.title(\"Cases vs Predicted Cases\");"
   ]
  },
  {
   "cell_type": "markdown",
   "id": "fedb5469",
   "metadata": {
    "deletable": false,
    "editable": false
   },
   "source": [
    "<!-- END QUESTION -->\n",
    "\n",
    "### Question 5f\n",
    "\n",
    "We will investigate the bias and variance of this improved model on the test set using the bias-variance decomposition to formalize the behaviour of our model. To generate an empirical estimate of the errors and the parameters in the bias-variance decomposition, train 1000 bootstrapped models on the training dataset from part (d).\n",
    "\n",
    "<!--\n",
    "BEGIN QUESTION\n",
    "name: q5f\n",
    "points: 5\n",
    "-->"
   ]
  },
  {
   "cell_type": "code",
   "execution_count": null,
   "id": "f7b7619b",
   "metadata": {},
   "outputs": [],
   "source": [
    "models = []\n",
    "for i in np.arange(1000):\n",
    "    sample_X_q5d_train = X_q5d_train.sample(frac = 1, replace = True)\n",
    "    sample_y_q5d_train = y_q5d_train.sample(frac = 1, replace = True)\n",
    "    linear_model = lm.LinearRegression()\n",
    "    models.append(linear_model.fit(sample_X_q5d_train, sample_y_q5d_train))"
   ]
  },
  {
   "cell_type": "code",
   "execution_count": null,
   "id": "5211469f",
   "metadata": {
    "deletable": false,
    "editable": false
   },
   "outputs": [
    {
     "data": {
      "text/html": [
       "<p><strong><pre style='display: inline;'>q5f</pre></strong> passed!</p>"
      ],
      "text/plain": [
       "q5f results: All test cases passed!"
      ]
     },
     "execution_count": 286,
     "metadata": {},
     "output_type": "execute_result"
    }
   ],
   "source": [
    "grader.check(\"q5f\")"
   ]
  },
  {
   "cell_type": "markdown",
   "id": "715760e0",
   "metadata": {
    "deletable": false,
    "editable": false
   },
   "source": [
    "### Question 5g\n",
    "\n",
    "To investigate the variance in our test predictions, we sample a particular test point $(x_i, y_i)$ such that $i = 100$. In other words, we will use the 100th point in the test set from part (d), `(X_q5d_test.iloc[100], y_q5d_test.iloc[100])` as the testing point.\n",
    "\n",
    "Generate predictions and square errors for this test point for all 1000 models, and calculate the *proportion* of the *expected* square error that is captured by the model prediction variance. In other words, we wish to estimate the following quantity:\n",
    "\n",
    "$$\n",
    "\\frac{\\mathrm{Var}(f_\\theta(x_i))}{\\mathrm{E}_\\theta[(y_i - f_\\theta(x_i))^2]}\n",
    "$$\n",
    "\n",
    "*Hint*: Refer to the bias-variance decomposition from lecture.\n",
    "<!--\n",
    "BEGIN QUESTION\n",
    "name: q5g\n",
    "points: 5\n",
    "-->"
   ]
  },
  {
   "cell_type": "code",
   "execution_count": null,
   "id": "896ac261",
   "metadata": {},
   "outputs": [
    {
     "data": {
      "text/plain": [
       "0.0010167264382743234"
      ]
     },
     "execution_count": 287,
     "metadata": {},
     "output_type": "execute_result"
    }
   ],
   "source": [
    "predictions = []\n",
    "\n",
    "for i in np.arange(len(models)):\n",
    "    pred = models[i].predict(X_q5d_test.iloc[[100]])[0]\n",
    "    predictions.append(pred)\n",
    "\n",
    "prop_var = np.var(predictions) / np.mean((y_q5d_test.iloc[100] - predictions) ** 2)\n",
    "prop_var"
   ]
  },
  {
   "cell_type": "code",
   "execution_count": null,
   "id": "d340c189-1a20-4f5e-bede-1ad59c551e42",
   "metadata": {},
   "outputs": [
    {
     "data": {
      "text/plain": [
       "2.523471947686405e-06"
      ]
     },
     "execution_count": 288,
     "metadata": {},
     "output_type": "execute_result"
    }
   ],
   "source": [
    "# variance of predictions\n",
    "np.var(predictions)"
   ]
  },
  {
   "cell_type": "code",
   "execution_count": null,
   "id": "4b7bcc0c",
   "metadata": {
    "deletable": false,
    "editable": false
   },
   "outputs": [
    {
     "data": {
      "text/html": [
       "<p><strong><pre style='display: inline;'>q5g</pre></strong> passed!</p>"
      ],
      "text/plain": [
       "q5g results: All test cases passed!"
      ]
     },
     "execution_count": 289,
     "metadata": {},
     "output_type": "execute_result"
    }
   ],
   "source": [
    "grader.check(\"q5g\")"
   ]
  },
  {
   "cell_type": "markdown",
   "id": "0b590da8",
   "metadata": {
    "deletable": false,
    "editable": false
   },
   "source": [
    "<!-- BEGIN QUESTION -->\n",
    "\n",
    "### Question 5h\n",
    "\n",
    "Using the bias-variance decomposition, comment on how much the variance of the model contributes to the error on the sample point above. We will extend this scenario to analyze the noise term in the bias-variance decomposition, specifically with regards to this COVID-19 dataset. Consider the following:\n",
    "\n",
    "i) Assuming no observational noise (i.e. $\\epsilon = 0$), what is the *magnitude* of the empirical model bias on this sample point?\n",
    "\n",
    "ii) Clearly, there is a non-trivial amount of observational noise with COVID-19 case data simply due to how testing works and occurs. Please take a look at [this article](https://fivethirtyeight.com/features/coronavirus-case-counts-are-meaningless/) for more information. Given this infomation, explain the issues with the assumptions and result in 5h(i).\n",
    "\n",
    "iii) Recall that we typically assume $y = g(x) + \\epsilon$, where $\\epsilon \\sim \\mathcal{N}(\\mu, \\sigma)$. In the theoretical setting for bias-variance, we have assumed $\\mu = 0, \\sigma > 0$. In this practical setting, analyze and determine how $\\epsilon$ could be modeled (as a normal distribution, but you may also consider how it could be modeled as another distribution). Are there any immediate issues with the assumptions we have made in the theoretical setting where $\\mu = 0, \\sigma > 0$? What conditions on $\\mu, \\sigma$ could be more appropriate and why?\n",
    "\n",
    "iv) Does the standard bias-variance decomposition presented in lecture hold given $\\epsilon$ being normally distributed according to your answer in part (iii)? If so, please explain why. If not, explain why it does not hold and if possible, how to modify the bias-variance decomposition to make it hold (i.e. perhaps there is an additional noise term $E[\\epsilon^3]$). \n",
    "\n",
    "*Hint*: Try to express $y = g(x) + \\epsilon$ by adding and subtracting a certain quantity.\n",
    "\n",
    "v) Intuitively, is it possible to minimize the true model bias to 0 given your $\\epsilon$ formulation in part (iii)? Why or why not? Justify your answer using part (iv) if possible.\n",
    "\n",
    "vi) Consider the infinite sample case where an oracle grants you as many samples as requested, and answer the same question in part (v). Is it possible to minimize the true model bias to 0 given your $\\epsilon$ formulation in part (iii)? Conclude with an analysis of what our modeling task can approximate using $X\\theta \\approx y$ in the finite and infinite sample case.\n",
    "\n",
    "<!--\n",
    "BEGIN QUESTION\n",
    "name: q5h\n",
    "points: 24\n",
    "manual: True\n",
    "-->"
   ]
  },
  {
   "cell_type": "markdown",
   "id": "f478bb92",
   "metadata": {},
   "source": [
    "i.) We start with the model risk equation, such as:\n",
    "   $$modelrisk = bias^2 + model variance + random noise $$\n",
    "In this case, since random noise is equal to zero, we only have bias and the model variance to work with. Based on 5g, the variance is also equal to about zero, since it's  2.68e-06. Finally, to calculate the bias, we will square the difference between the predicted value and our true values. To calculate, we use the code: `np.mean((y_q5d_test.iloc[100] - predictions) ** 2)` to get exactly 0.002. Altogether, the model risk will equate to zero and that the magnitude will have zero effect on the sample point.\n",
    "\n",
    "\n",
    "ii.) The issue with 5h(i) assumptions is that its impossible for the model to have zero noise because even with a good model, data will always have a certain amount of irreducible error. Especially with the generation of COVID-19 case data being \"highly non-random,\" the results of 5h(i) do not provide a good comprehension on the true population because as mentioned in 5h(i), the model risk only contains a single sample point. Likewise, the number of covid cases does not account for testing patterns, let alone having a low correlation between the number of covid cases per capita and the frequency of mask usage.\n",
    "\n",
    "iii.) In the practical setting, $\\epsilon$ or noise error ideally should have a mean equal to 0, because the sum of the residuals of the error term also equals to 0. Likewise, the standard deviation being greater than 0, or in this case, the mean is normal because it shows how distributed it is across the mean. I wouldn't say that there are any immediate issues with the assumption that the mean of the error term is equal to 0, and its standard deviation being greater than 0. In fact, the assumptions should stay because with a mean greater or less than 0, our model would always \n",
    "either overpredict or underpredict our true values. As such, the conditions on $\\mu$ and $\\sigma$ should stay the same, with $\\mu = 0$ and $\\sigma  > 0$.\n",
    "\n",
    "iv.) The bias-variance decomposition presented in lecture does hold because the model risk comes out to equal to 0, with $\\epsilon$, variance, and bias all being equal to 0 with the sample point. For example, the sample point the 100th sample point is 0.176, and $\\epsilon$ equals to 0. If we were to add or subtract from the `y` value, then we would have a greater difference with our prediction of the true sample in our model.\n",
    "\n",
    "v.) Intuitively, it would be impossible to reduce bias to zero because any data you collect will always have bias regardless. Likewise, the article claims that the COVID dataset is \"non-random\", which would make it not possible to minimize bias to zero. With a non-random dataset, there would be a higher amount of irreducible noise within the data, giving a higher error term in the model risk. This would overall invalidate the bias-variance decomposition of the model, with the magnitude of bias on sample points higher than zero.\n",
    "\n",
    "vi.) With an infinite sample case, it's possible to reduce bias to zero because if we can consider all possible scenarios of bias within the data collected, then we would be able to take into account all these factors that lead to bias, and ultimately reduce the bias to zero. However, in reality, it is unlikely to attain all the resources to replicate infinite samples."
   ]
  },
  {
   "cell_type": "markdown",
   "id": "653f5fdb",
   "metadata": {
    "deletable": false,
    "editable": false
   },
   "source": [
    "<!-- END QUESTION -->\n",
    "\n",
    "### Question 5i\n",
    "\n",
    "Using the bias-variance decomposition for each test point, calculate the average variance and average test mean-square error across the entire test set from part (d). In other words, estimate the following quantities:\n",
    "\n",
    "$$\n",
    "\\frac{1}{n} \\sum_i \\mathrm{Var}(f_\\theta(x_i))\n",
    "$$\n",
    "\n",
    "and\n",
    "\n",
    "$$\n",
    "\\frac{1}{n} \\sum_i \\mathrm{E}_\\theta[(y_i - f_\\theta(x_i))^2]\n",
    "$$\n",
    "\n",
    "<!--\n",
    "BEGIN QUESTION\n",
    "name: q5i\n",
    "points: 5\n",
    "manual: False\n",
    "-->"
   ]
  },
  {
   "cell_type": "code",
   "execution_count": null,
   "id": "05c3d006-247a-4da6-84d4-83f86dd885d5",
   "metadata": {},
   "outputs": [
    {
     "data": {
      "text/plain": [
       "(2.9540357171504672e-06, 0.0015615848610438482)"
      ]
     },
     "execution_count": 290,
     "metadata": {},
     "output_type": "execute_result"
    }
   ],
   "source": [
    "var = []\n",
    "mse = []\n",
    "for i in np.arange(len(models)):\n",
    "    pred = models[i].predict(X_q5d_test)\n",
    "    var.append(np.var(pred))\n",
    "    mse.append(rmse(y_q5d_test, pred) ** 2)\n",
    "\n",
    "avg_var, avg_mse = np.mean(var), np.mean(mse)\n",
    "\n",
    "avg_var, avg_mse"
   ]
  },
  {
   "cell_type": "code",
   "execution_count": null,
   "id": "8243a140",
   "metadata": {
    "deletable": false,
    "editable": false
   },
   "outputs": [
    {
     "data": {
      "text/html": [
       "<p><strong><pre style='display: inline;'>q5i</pre></strong> passed!</p>"
      ],
      "text/plain": [
       "q5i results: All test cases passed!"
      ]
     },
     "execution_count": 291,
     "metadata": {},
     "output_type": "execute_result"
    }
   ],
   "source": [
    "grader.check(\"q5i\")"
   ]
  },
  {
   "cell_type": "markdown",
   "id": "15d6f530",
   "metadata": {
    "deletable": false,
    "editable": false
   },
   "source": [
    "<!-- BEGIN QUESTION -->\n",
    "\n",
    "## Question 5j\n",
    "\n",
    "Propose a solution to reducing the mean square error using the insights gained from the bias-variance decomposition above. What are the values of the quantities that have we estimated and what can be concluded about the remaining quantities? Please show all work that informs your analysis.\n",
    "\n",
    "Assume that the standard bias-variance decomposition used in lecture can be applied here.\n",
    "<!--\n",
    "BEGIN QUESTION\n",
    "name: q5j\n",
    "points: 5\n",
    "manual: True\n",
    "-->"
   ]
  },
  {
   "cell_type": "markdown",
   "id": "99bbb2f5",
   "metadata": {},
   "source": [
    "To reduce the mean square error, we would first make sure that the data we're training and testing is clean, so that we can reduce as much random noise as possible in the dataset. Also, we would need to find a balance between the complexity of our model, because too much will cause high variance, while too little will cause high bias in the model risk. In the meantime, we can also collect more recent data on the COVID data set in order to reduce the overall variance and bias of our model."
   ]
  },
  {
   "cell_type": "markdown",
   "id": "e6f0f9b9",
   "metadata": {
    "tags": []
   },
   "source": [
    "<!-- END QUESTION -->\n",
    "\n",
    "\n",
    "\n",
    "<br/><br/><br/>\n",
    "\n",
    "---\n",
    "\n",
    "<br/><br/><br/>\n",
    "\n",
    "## Question 6: Open Supervised Modeling\n",
    "\n",
    "We wish to extend our modeling framework from Question 5 to make it more accurate; in other words, we wish to predict $f(x)$, a supervised learning output, based on past and current quantities. \n",
    "\n",
    "This section will serve as a rough guide on creating an autoregressive modeling framework for predicting a COVID-19 quantity of your choice (i.e. deaths, cases, vaccinations).\n",
    "\n",
    "Note that if you do not wish to pursue time-based modeling of COVID-19, you may skip parts (d), (e), and (f). That being said, you are strongly encouraged to incorporate time-based modeling into your open-ended modeling design since it constitutes a large component of the provided datasets.\n",
    "\n",
    "We will ***not*** grade these below questions individually (i.e. there are no points explicitly assigned to questions 6(a) to 6(f)); they are simply guiding questions and will be graded as part of the final project report. You should make sure to answer all of the questions (that are applicable to your open-ended modeling) in some form in the report."
   ]
  },
  {
   "cell_type": "markdown",
   "id": "4b1e3e64",
   "metadata": {
    "deletable": false,
    "editable": false
   },
   "source": [
    "<!-- BEGIN QUESTION -->\n",
    "\n",
    "### Question 6a\n",
    "\n",
    "Train a baseline model where $f$ is the model described in Question 0a and $x$ is a quantity of *your* choice. Note that you may used *any* supervised learning approach we have studied; you are not limited to a linear model.\n",
    "\n",
    "<!--\n",
    "BEGIN QUESTION\n",
    "name: q6a\n",
    "points: 0\n",
    "manual: True\n",
    "-->"
   ]
  },
  {
   "cell_type": "code",
   "execution_count": null,
   "id": "251e38c1-1a3e-452d-8f29-84c66f6fb133",
   "metadata": {},
   "outputs": [
    {
     "data": {
      "text/html": [
       "<div>\n",
       "<style scoped>\n",
       "    .dataframe tbody tr th:only-of-type {\n",
       "        vertical-align: middle;\n",
       "    }\n",
       "\n",
       "    .dataframe tbody tr th {\n",
       "        vertical-align: top;\n",
       "    }\n",
       "\n",
       "    .dataframe thead th {\n",
       "        text-align: right;\n",
       "    }\n",
       "</style>\n",
       "<table border=\"1\" class=\"dataframe\">\n",
       "  <thead>\n",
       "    <tr style=\"text-align: right;\">\n",
       "      <th></th>\n",
       "      <th>January '20</th>\n",
       "      <th>February '20</th>\n",
       "      <th>March '20</th>\n",
       "      <th>April '20</th>\n",
       "      <th>May '20</th>\n",
       "      <th>June '20</th>\n",
       "      <th>July '20</th>\n",
       "      <th>August '20</th>\n",
       "      <th>September '20</th>\n",
       "      <th>October '20</th>\n",
       "      <th>...</th>\n",
       "      <th>March '21</th>\n",
       "      <th>April '21</th>\n",
       "      <th>May '21</th>\n",
       "      <th>June '21</th>\n",
       "      <th>July '21</th>\n",
       "      <th>August '21</th>\n",
       "      <th>September '21</th>\n",
       "      <th>People_Fully_Vaccinated</th>\n",
       "      <th>People_Partially_Vaccinated</th>\n",
       "      <th>Population2020</th>\n",
       "    </tr>\n",
       "    <tr>\n",
       "      <th>STNAME</th>\n",
       "      <th></th>\n",
       "      <th></th>\n",
       "      <th></th>\n",
       "      <th></th>\n",
       "      <th></th>\n",
       "      <th></th>\n",
       "      <th></th>\n",
       "      <th></th>\n",
       "      <th></th>\n",
       "      <th></th>\n",
       "      <th></th>\n",
       "      <th></th>\n",
       "      <th></th>\n",
       "      <th></th>\n",
       "      <th></th>\n",
       "      <th></th>\n",
       "      <th></th>\n",
       "      <th></th>\n",
       "      <th></th>\n",
       "      <th></th>\n",
       "      <th></th>\n",
       "    </tr>\n",
       "  </thead>\n",
       "  <tbody>\n",
       "    <tr>\n",
       "      <th>Alabama</th>\n",
       "      <td>0.0</td>\n",
       "      <td>0.0</td>\n",
       "      <td>0.000003</td>\n",
       "      <td>0.000052</td>\n",
       "      <td>0.000073</td>\n",
       "      <td>0.000060</td>\n",
       "      <td>0.000123</td>\n",
       "      <td>0.000112</td>\n",
       "      <td>0.000093</td>\n",
       "      <td>0.000087</td>\n",
       "      <td>...</td>\n",
       "      <td>0.000127</td>\n",
       "      <td>0.000069</td>\n",
       "      <td>0.000051</td>\n",
       "      <td>0.000042</td>\n",
       "      <td>0.000037</td>\n",
       "      <td>0.000152</td>\n",
       "      <td>0.000080</td>\n",
       "      <td>0.400493</td>\n",
       "      <td>0.110336</td>\n",
       "      <td>4921532</td>\n",
       "    </tr>\n",
       "    <tr>\n",
       "      <th>Alaska</th>\n",
       "      <td>0.0</td>\n",
       "      <td>0.0</td>\n",
       "      <td>0.000001</td>\n",
       "      <td>0.000006</td>\n",
       "      <td>0.000007</td>\n",
       "      <td>0.000006</td>\n",
       "      <td>0.000012</td>\n",
       "      <td>0.000019</td>\n",
       "      <td>0.000026</td>\n",
       "      <td>0.000035</td>\n",
       "      <td>...</td>\n",
       "      <td>0.000032</td>\n",
       "      <td>0.000047</td>\n",
       "      <td>0.000030</td>\n",
       "      <td>0.000011</td>\n",
       "      <td>0.000017</td>\n",
       "      <td>0.000076</td>\n",
       "      <td>0.000019</td>\n",
       "      <td>0.496534</td>\n",
       "      <td>0.075520</td>\n",
       "      <td>721812</td>\n",
       "    </tr>\n",
       "    <tr>\n",
       "      <th>Arizona</th>\n",
       "      <td>0.0</td>\n",
       "      <td>0.0</td>\n",
       "      <td>0.000002</td>\n",
       "      <td>0.000041</td>\n",
       "      <td>0.000079</td>\n",
       "      <td>0.000100</td>\n",
       "      <td>0.000276</td>\n",
       "      <td>0.000180</td>\n",
       "      <td>0.000084</td>\n",
       "      <td>0.000044</td>\n",
       "      <td>...</td>\n",
       "      <td>0.000133</td>\n",
       "      <td>0.000048</td>\n",
       "      <td>0.000041</td>\n",
       "      <td>0.000042</td>\n",
       "      <td>0.000042</td>\n",
       "      <td>0.000073</td>\n",
       "      <td>0.000054</td>\n",
       "      <td>0.487078</td>\n",
       "      <td>0.081539</td>\n",
       "      <td>7421401</td>\n",
       "    </tr>\n",
       "    <tr>\n",
       "      <th>Arkansas</th>\n",
       "      <td>0.0</td>\n",
       "      <td>0.0</td>\n",
       "      <td>0.000002</td>\n",
       "      <td>0.000018</td>\n",
       "      <td>0.000024</td>\n",
       "      <td>0.000045</td>\n",
       "      <td>0.000060</td>\n",
       "      <td>0.000114</td>\n",
       "      <td>0.000189</td>\n",
       "      <td>0.000183</td>\n",
       "      <td>...</td>\n",
       "      <td>0.000126</td>\n",
       "      <td>0.000037</td>\n",
       "      <td>0.000031</td>\n",
       "      <td>0.000025</td>\n",
       "      <td>0.000077</td>\n",
       "      <td>0.000262</td>\n",
       "      <td>0.000110</td>\n",
       "      <td>0.435045</td>\n",
       "      <td>0.108019</td>\n",
       "      <td>3030522</td>\n",
       "    </tr>\n",
       "    <tr>\n",
       "      <th>California</th>\n",
       "      <td>0.0</td>\n",
       "      <td>0.0</td>\n",
       "      <td>0.000004</td>\n",
       "      <td>0.000046</td>\n",
       "      <td>0.000054</td>\n",
       "      <td>0.000047</td>\n",
       "      <td>0.000078</td>\n",
       "      <td>0.000094</td>\n",
       "      <td>0.000076</td>\n",
       "      <td>0.000048</td>\n",
       "      <td>...</td>\n",
       "      <td>0.000156</td>\n",
       "      <td>0.000065</td>\n",
       "      <td>0.000036</td>\n",
       "      <td>0.000026</td>\n",
       "      <td>0.000022</td>\n",
       "      <td>0.000038</td>\n",
       "      <td>0.000033</td>\n",
       "      <td>0.586602</td>\n",
       "      <td>0.130071</td>\n",
       "      <td>39368078</td>\n",
       "    </tr>\n",
       "  </tbody>\n",
       "</table>\n",
       "<p>5 rows × 24 columns</p>\n",
       "</div>"
      ],
      "text/plain": [
       "            January '20  February '20  March '20  April '20   May '20  \\\n",
       "STNAME                                                                  \n",
       "Alabama             0.0           0.0   0.000003   0.000052  0.000073   \n",
       "Alaska              0.0           0.0   0.000001   0.000006  0.000007   \n",
       "Arizona             0.0           0.0   0.000002   0.000041  0.000079   \n",
       "Arkansas            0.0           0.0   0.000002   0.000018  0.000024   \n",
       "California          0.0           0.0   0.000004   0.000046  0.000054   \n",
       "\n",
       "            June '20  July '20  August '20  September '20  October '20  ...  \\\n",
       "STNAME                                                                  ...   \n",
       "Alabama     0.000060  0.000123    0.000112       0.000093     0.000087  ...   \n",
       "Alaska      0.000006  0.000012    0.000019       0.000026     0.000035  ...   \n",
       "Arizona     0.000100  0.000276    0.000180       0.000084     0.000044  ...   \n",
       "Arkansas    0.000045  0.000060    0.000114       0.000189     0.000183  ...   \n",
       "California  0.000047  0.000078    0.000094       0.000076     0.000048  ...   \n",
       "\n",
       "            March '21  April '21   May '21  June '21  July '21  August '21  \\\n",
       "STNAME                                                                       \n",
       "Alabama      0.000127   0.000069  0.000051  0.000042  0.000037    0.000152   \n",
       "Alaska       0.000032   0.000047  0.000030  0.000011  0.000017    0.000076   \n",
       "Arizona      0.000133   0.000048  0.000041  0.000042  0.000042    0.000073   \n",
       "Arkansas     0.000126   0.000037  0.000031  0.000025  0.000077    0.000262   \n",
       "California   0.000156   0.000065  0.000036  0.000026  0.000022    0.000038   \n",
       "\n",
       "            September '21  People_Fully_Vaccinated  \\\n",
       "STNAME                                               \n",
       "Alabama          0.000080                 0.400493   \n",
       "Alaska           0.000019                 0.496534   \n",
       "Arizona          0.000054                 0.487078   \n",
       "Arkansas         0.000110                 0.435045   \n",
       "California       0.000033                 0.586602   \n",
       "\n",
       "            People_Partially_Vaccinated  Population2020  \n",
       "STNAME                                                   \n",
       "Alabama                        0.110336         4921532  \n",
       "Alaska                         0.075520          721812  \n",
       "Arizona                        0.081539         7421401  \n",
       "Arkansas                       0.108019         3030522  \n",
       "California                     0.130071        39368078  \n",
       "\n",
       "[5 rows x 24 columns]"
      ]
     },
     "execution_count": 292,
     "metadata": {},
     "output_type": "execute_result"
    }
   ],
   "source": [
    "import calendar\n",
    "# 6a dataframe\n",
    "deaths_6a = deaths.copy()\n",
    "deaths_6a = deaths.loc[:, :'9/12/21']\n",
    "drop_col = ['Admin2','Country_Region','Lat','Long_','Combined_Key','Population','UID','iso2','iso3','code3']\n",
    "deaths_6a = deaths_6a.drop(drop_col, axis = 1)\n",
    "lst_6a = np.array(deaths_6a[\"FIPS\"])\n",
    "deaths_6a['FIPS'] = lst_6a.astype(int)\n",
    "county_data_6a = county_data.copy()\n",
    "county_data_6a = county_data_6a.loc[:, :'1/22/20'].iloc[:, :-1]\n",
    "df_deaths_6a = county_data_6a.merge(deaths_6a)\n",
    "\n",
    "y = vaccinations[vaccinations['Date'] == '2021-09-12']\n",
    "x = df_deaths_6a.groupby(\"STNAME\").agg(sum)\n",
    "y = y[y['Province_State'].isin(x.index)].set_index('Province_State')\n",
    "z = x.merge(y, left_index=True, right_index=True, how='inner')\n",
    "deaths_vaccinations = z.drop(['SUMLEV', 'REGION', 'DIVISION', 'STATE',\"ESTIMATESBASE2010\",  'COUNTY','POPESTIMATE2010', \"POPESTIMATE042020\", 'POPESTIMATE2011', 'POPESTIMATE2012', \"POPESTIMATE2013\", \"POPESTIMATE2014\", \"POPESTIMATE2015\", \"POPESTIMATE2016\", \"POPESTIMATE2017\",\"POPESTIMATE2018\",\"POPESTIMATE2019\", \"UID\", \"code3\", \"Lat_x\", \"Long__x\", \"Lat_y\", \"Long__y\", \"FIPS_y\", \"Country_Region\", \"Combined_Key\"], axis = 1)\n",
    "dvdf = deaths_vaccinations.loc[:, '1/22/20':'9/12/21']\n",
    "dvdf.columns = pd.to_datetime(dvdf.columns)\n",
    "\n",
    "lst = []\n",
    "lst_2 = []\n",
    "mm = 1\n",
    "for i in dvdf.columns:\n",
    "    if i.month == mm:\n",
    "        lst.append(i)\n",
    "    else:\n",
    "        mm += 1\n",
    "        lst_2.append(lst)\n",
    "        lst = []\n",
    "        if mm > 12:\n",
    "            mm = 1\n",
    "lst_2 = lst_2 + [lst]\n",
    "lst_3 = []\n",
    "for i in np.arange(21):\n",
    "    lst_3.append(lst_2[i][-1])\n",
    "dvdf = dvdf.loc[:, lst_3]\n",
    "month_names = [calendar.month_name[i] for i in range(1,13)]\n",
    "twenty20 = [month + \" '20\" for month in month_names]\n",
    "twenty21 = [month + \" '21\" for month in month_names[:9]]\n",
    "dvdf.columns = twenty20 + twenty21\n",
    "dvdf = dvdf.divide(deaths_vaccinations['POPESTIMATE2020'], axis = 0)\n",
    "dvdf = dvdf.diff(axis = 1)\n",
    "dvdf['People_Fully_Vaccinated'] = deaths_vaccinations['People_Fully_Vaccinated'] / deaths_vaccinations['POPESTIMATE2020']\n",
    "dvdf['People_Partially_Vaccinated'] = deaths_vaccinations['People_Partially_Vaccinated'] / deaths_vaccinations['POPESTIMATE2020']\n",
    "dvdf['Population2020'] = deaths_vaccinations['POPESTIMATE2020']\n",
    "dvdf = dvdf.fillna(value = 0)\n",
    "dvdf.head()"
   ]
  },
  {
   "cell_type": "code",
   "execution_count": null,
   "id": "7b2b2161-e713-4f70-84ca-1b78404655f3",
   "metadata": {},
   "outputs": [
    {
     "data": {
      "image/png": "[encoded data removed]",
      "text/plain": [
       "<Figure size 432x288 with 1 Axes>"
      ]
     },
     "metadata": {
      "needs_background": "light"
     },
     "output_type": "display_data"
    }
   ],
   "source": [
    "eda = dvdf.rename(columns = {\"People_Fully_Vaccinated\": \"Fully Vaccinated People Per Capita\"})\n",
    "eda\n",
    "scat = sns.regplot(eda[\"Fully Vaccinated People Per Capita\"], eda[\"September '21\"]).set(title = \"Vaccination Rate on September 21 vs change in death rate for 9/21\")\n",
    "scat;"
   ]
  },
  {
   "cell_type": "markdown",
   "id": "1a236e84-4c3f-40f6-ab1e-1ad315f4ce55",
   "metadata": {},
   "source": [
    "#### Baseline Without Fully and Partially Vaccinated Features"
   ]
  },
  {
   "cell_type": "code",
   "execution_count": null,
   "id": "ac02f089-3b9d-40d9-a708-959756df8049",
   "metadata": {},
   "outputs": [
    {
     "data": {
      "text/plain": [
       "(1.8498165999375868e-05, 6.840357745029349e-05)"
      ]
     },
     "execution_count": 294,
     "metadata": {},
     "output_type": "execute_result"
    }
   ],
   "source": [
    "col = list(dvdf.columns[2:12])\n",
    "X_basee = dvdf[col]\n",
    "y_basee = dvdf[dvdf.columns[20]]\n",
    "\n",
    "# Make sure to set random_state = 42 and test_size = 0.33!\n",
    "X_train, X_test, y_train, y_test =  train_test_split(X_basee, y_basee, test_size = .33, random_state = 42)\n",
    "\n",
    "import sklearn.linear_model as lm\n",
    "\n",
    "linear_model = lm.LinearRegression()\n",
    "\n",
    "linear_model.fit(X_train, y_train)\n",
    "\n",
    "Y_pred_6a = linear_model.predict(X_test)\n",
    "\n",
    "train_rmse_cases6, test_rmse_cases6 =  rmse(y_train, linear_model.predict(X_train)), rmse(y_test, linear_model.predict(X_test))\n",
    "train_rmse_cases6, test_rmse_cases6"
   ]
  },
  {
   "cell_type": "markdown",
   "id": "88880b5a-51c4-4ba6-aa02-453746fc69b0",
   "metadata": {},
   "source": [
    "#### Baseline With Fully and Partially Vaccinated Features"
   ]
  },
  {
   "cell_type": "code",
   "execution_count": null,
   "id": "f0160a31-5d7d-462d-90f2-7346303784b6",
   "metadata": {},
   "outputs": [
    {
     "data": {
      "text/plain": [
       "(1.638483009443846e-05, 6.562563236544584e-05)"
      ]
     },
     "execution_count": 295,
     "metadata": {},
     "output_type": "execute_result"
    }
   ],
   "source": [
    "col = list(dvdf.columns[2:12]) + ['People_Fully_Vaccinated', \"People_Partially_Vaccinated\"]\n",
    "X_q6a = dvdf[col]\n",
    "y_q6a = dvdf[dvdf.columns[20]]\n",
    "\n",
    "# Make sure to set random_state = 42 and test_size = 0.33!\n",
    "X_q6a_train, X_q6a_test, y_q6a_train, y_q6a_test =  train_test_split(X_q6a, y_q6a, test_size = .33, random_state = 42)\n",
    "\n",
    "import sklearn.linear_model as lm\n",
    "\n",
    "linear_model = lm.LinearRegression()\n",
    "\n",
    "linear_model.fit(X_q6a_train, y_q6a_train)\n",
    "\n",
    "Y_pred_6a = linear_model.predict(X_q6a_test)\n",
    "\n",
    "train_rmse_cases_6a, test_rmse_cases_6a =  rmse(y_q6a_train, linear_model.predict(X_q6a_train)), rmse(y_q6a_test, linear_model.predict(X_q6a_test))\n",
    "train_rmse_cases_6a, test_rmse_cases_6a\n"
   ]
  },
  {
   "cell_type": "markdown",
   "id": "1a3b8a40",
   "metadata": {
    "deletable": false,
    "editable": false
   },
   "source": [
    "<!-- END QUESTION -->\n",
    "\n",
    "<!-- BEGIN QUESTION -->\n",
    "\n",
    "### Question 6b\n",
    "\n",
    "Improve your model from part (a). Specify the supervised model you choose and write $f(x)$ as a function of the chosen features and parameters in your model. Justify why you chose these features and how you expect they will correlate with the output you wish to predict.\n",
    "\n",
    "<!--\n",
    "BEGIN QUESTION\n",
    "name: q6b\n",
    "points: 0\n",
    "manual: True\n",
    "-->"
   ]
  },
  {
   "cell_type": "code",
   "execution_count": null,
   "id": "0ab91b78",
   "metadata": {},
   "outputs": [
    {
     "data": {
      "text/plain": [
       "(1.2953704365009264e-05, 2.9977873507974467e-05)"
      ]
     },
     "execution_count": 296,
     "metadata": {},
     "output_type": "execute_result"
    }
   ],
   "source": [
    "cols6b = list(dvdf.columns[12:20]) + ['People_Fully_Vaccinated', \"People_Partially_Vaccinated\"]\n",
    "X_q6b = dvdf[cols6b]\n",
    "y_q6b = dvdf[dvdf.columns[20]]\n",
    "\n",
    "# Make sure to set random_state = 42 and test_size = 0.33!\n",
    "X_q6b_train, X_q6b_test, y_q6b_train, y_q6b_test =  train_test_split(X_q6b, y_q6b, test_size = .33, random_state = 42)\n",
    "\n",
    "import sklearn.linear_model as lm\n",
    "\n",
    "linear_model = lm.LinearRegression()\n",
    "\n",
    "linear_model.fit(X_q6b_train, y_q6b_train)\n",
    "\n",
    "Y_pred_6b = linear_model.predict(X_q6b_test)\n",
    "\n",
    "train_rmse_cases_6b, test_rmse_cases_6b =  rmse(y_q6b_train, linear_model.predict(X_q6b_train)), rmse(y_q6b_test, linear_model.predict(X_q6b_test))\n",
    "train_rmse_cases_6b, test_rmse_cases_6b\n"
   ]
  },
  {
   "cell_type": "markdown",
   "id": "f28de6f8",
   "metadata": {
    "deletable": false,
    "editable": false
   },
   "source": [
    "<!-- END QUESTION -->\n",
    "\n",
    "<!-- BEGIN QUESTION -->\n",
    "\n",
    "### Question 6c\n",
    "\n",
    "If applicable, write an equation or rule for the prediction function $f(x)$; if this is infeasible, make sure to visualize your model parameters in some way. Interpret your improved model's optimal parameters (*hint*: refer to 1aiii), and compare these parameters to those of the baseline model. Comment on whether the parameters follow physical intuition given the nature of the prediction task.\n",
    "\n",
    "For example, if you chose to use a decision tree, you may interpret the generated rules.\n",
    " \n",
    "<!--\n",
    "BEGIN QUESTION\n",
    "name: q6c\n",
    "points: 0\n",
    "manual: True\n",
    "-->"
   ]
  },
  {
   "cell_type": "markdown",
   "id": "df0defa5",
   "metadata": {},
   "source": [
    "The prediction function with our linear regression will introduce a new variable $m$, where $m$ represents the days within a month and that $0 <$ $m$ $\\leq 31$. The number of days and months $n$ is denoted on the available days and months from the current and exported dataset.\n",
    "\n",
    "As such, \n",
    "$f(x) = x_{m + ... m + n} + x_{{m_2} + ... m + n} + ..., x_{{m_n} + m + n}$\n",
    "\n",
    "where we will predict future monthly or daily deaths with our baseline and improved model. Both the baseline and improved model will contain the percentage of fully and partially vaccinated people. However, the optimal parameters for the improved model will contain monthly the death rates in year 2021, while the baseline will contain death rates in the year 2020. This is to compare whether the models will improve their prediction based on older data versus newer data."
   ]
  },
  {
   "cell_type": "markdown",
   "id": "16b89e46",
   "metadata": {
    "deletable": false,
    "editable": false
   },
   "source": [
    "two_days<!-- END QUESTION -->\n",
    "\n",
    "<!-- BEGIN QUESTION -->\n",
    "\n",
    "### Question 6d\n",
    "\n",
    "Discuss your improved model's performance on both short-term and long-term time scales using a metric of your choice (*hint:* we're using an autoregressive model). In other words, given $x_t$, we wish to predict $\\hat{x}_{t+k}$, and plot the error of these predictions for two $k$ values of your choice. You may use any reasonable interpretation of short-term and long-term predictions; an initial suggestion is to use 2-day predictions and 2-week predictions.\n",
    "\n",
    "Compare the performance of this model on both timescales with the baseline model.\n",
    "\n",
    "<!--\n",
    "BEGIN QUESTION\n",
    "name: q6d\n",
    "points: 0\n",
    "manual: True\n",
    "-->"
   ]
  },
  {
   "cell_type": "markdown",
   "id": "0f4ef4dd-9954-44a8-86d0-d20a973fc1dc",
   "metadata": {
    "tags": []
   },
   "source": [
    "## Baseline Model"
   ]
  },
  {
   "cell_type": "code",
   "execution_count": null,
   "id": "da91affc-16ae-4bba-8fe0-6db852515ac9",
   "metadata": {
    "tags": []
   },
   "outputs": [
    {
     "data": {
      "image/png": "[encoded data removed]",
      "text/plain": [
       "<Figure size 1440x360 with 1 Axes>"
      ]
     },
     "metadata": {
      "needs_background": "light"
     },
     "output_type": "display_data"
    }
   ],
   "source": [
    "# short-term baseline model\n",
    "# predict a week\n",
    "deaths_6d = deaths.copy()\n",
    "deaths_6d = deaths_6d[deaths_6d['Province_State'].isin(dvdf.index)].groupby('Province_State').agg(sum)\n",
    "two_days = deaths_6d.loc[:, '9/12/21':'9/14/21']\n",
    "two_days = two_days.divide(deaths_vaccinations['POPESTIMATE2020'], axis = 0)\n",
    "two_days = two_days.diff(axis = 1).drop(columns = '9/12/21')\n",
    "two_days[two_days < 0] = 0\n",
    "\n",
    "\n",
    "X_q6d_base = X_q6a\n",
    "y_q6d_base = two_days\n",
    "\n",
    "X_q6d_train_base, X_q6d_test_base, y_q6d_train_base, y_q6d_test_base =  train_test_split(X_q6d_base, y_q6d_base, test_size = .33, random_state = 42)\n",
    "\n",
    "linear_model = lm.LinearRegression()\n",
    "\n",
    "linear_model.fit(X_q6d_train_base, y_q6d_train_base)\n",
    "\n",
    "Y_pred_6d_base = linear_model.predict(X_q6d_test_base)\n",
    "\n",
    "train_rmse_cases_6d_base, test_rmse_cases_6d_base = rmse(y_q6d_train_base, linear_model.predict(X_q6d_train_base)), rmse(y_q6d_test_base, linear_model.predict(X_q6d_test_base))\n",
    "f, ax = plt.subplots(figsize=(20,5))\n",
    "plt.scatter(y_q6d_test_base, Y_pred_6d_base, alpha=0.5);\n",
    "plt.xlabel(\"Rate of Change in Deaths\")\n",
    "plt.ylabel(\"Predicted Change of Rate in Deaths\")\n",
    "plt.title(\"Rate of Change in Deaths vs Predicted Change of Rate in Deaths\");"
   ]
  },
  {
   "cell_type": "code",
   "execution_count": null,
   "id": "036542ae-7bae-41ad-8879-087ae66000a9",
   "metadata": {},
   "outputs": [
    {
     "name": "stdout",
     "output_type": "stream",
     "text": [
      "Train RMSE\n",
      "9/13/21    0.000004\n",
      "9/14/21    0.000006\n",
      "\n",
      "Test RMSE\n",
      "9/13/21    0.000013\n",
      "9/14/21    0.000020\n",
      "Accuracy: 0.6337354429959771\n"
     ]
    }
   ],
   "source": [
    "print(\"Train RMSE\")\n",
    "print(train_rmse_cases_6d_base.to_string())\n",
    "print()\n",
    "print(\"Test RMSE\")\n",
    "print(test_rmse_cases_6d_base.to_string())\n",
    "print(\"Accuracy: \" + str(linear_model.score(X_q6d_train_base, y_q6d_train_base)))"
   ]
  },
  {
   "cell_type": "code",
   "execution_count": null,
   "id": "38f24eaf-07bd-4ca1-b77f-cee662707c2c",
   "metadata": {
    "tags": []
   },
   "outputs": [
    {
     "data": {
      "image/png": "[encoded data removed]",
      "text/plain": [
       "<Figure size 1440x360 with 1 Axes>"
      ]
     },
     "metadata": {
      "needs_background": "light"
     },
     "output_type": "display_data"
    }
   ],
   "source": [
    "# long-term baseline model\n",
    "# predict a few months\n",
    "few_months = deaths_6d.loc[:, '8/1/21':]\n",
    "few_months.columns = pd.to_datetime(few_months.columns)\n",
    "lst = []\n",
    "lst_2 = []\n",
    "mm = 1\n",
    "for i in few_months.columns:\n",
    "    if i.month == mm:\n",
    "        lst.append(i)\n",
    "    else:\n",
    "        mm += 1\n",
    "        lst_2.append(lst)\n",
    "        lst = []\n",
    "        if mm > 12:\n",
    "            mm = 1\n",
    "lst_2 = lst_2 + [lst]\n",
    "lst_2 = [x for x in lst_2 if x != []]\n",
    "lst_3 = []\n",
    "for i in np.arange(5):\n",
    "    lst_3.append(lst_2[i][-1])\n",
    "lst_3\n",
    "few_months = few_months.loc[:, lst_3]\n",
    "few_months\n",
    "few_months = few_months.divide(deaths_vaccinations['POPESTIMATE2020'], axis = 0)\n",
    "few_months = few_months.diff(axis = 1).drop(columns = \"2021-08-31 00:00:00\")\n",
    "twenty21_6d = [month + \" '21\" for month in month_names[8:]]\n",
    "few_months.columns = twenty21_6d\n",
    "few_months['Population2020'] = deaths_vaccinations['POPESTIMATE2020'] \n",
    "few_months['People_Fully_Vaccinated'] = deaths_vaccinations['People_Fully_Vaccinated'] / deaths_vaccinations['POPESTIMATE2020'] \n",
    "few_months['People_Partially_Vaccinated'] = deaths_vaccinations['People_Partially_Vaccinated'] / deaths_vaccinations['POPESTIMATE2020'] \n",
    "\n",
    "X_q6d_base_2 = X_q6a\n",
    "y_q6d_base_2 = few_months.loc[:, [\"October '21\", \"November '21\"]]\n",
    "\n",
    "X_q6d_train_base_2, X_q6d_test_base_2, y_q6d_train_base_2, y_q6d_test_base_2 =  train_test_split(X_q6d_base_2, y_q6d_base_2, test_size = .33, random_state = 42)\n",
    "\n",
    "linear_model = lm.LinearRegression()\n",
    "\n",
    "linear_model.fit(X_q6d_train_base_2, y_q6d_train_base_2)\n",
    "\n",
    "Y_pred_6d_base_2 = linear_model.predict(X_q6d_test_base_2)\n",
    "\n",
    "train_rmse_cases_6d_base_2, test_rmse_cases_6d_base_2 = rmse(y_q6d_train_base_2, linear_model.predict(X_q6d_train_base_2)), rmse(y_q6d_test_base_2, linear_model.predict(X_q6d_test_base_2))\n",
    "f, ax = plt.subplots(figsize=(20,5))\n",
    "plt.scatter(y_q6d_test_base_2, Y_pred_6d_base_2, alpha=0.5)\n",
    "plt.xlabel(\"Rate of Change in Deaths\")\n",
    "plt.ylabel(\"Predicted Change of Rate in Deaths\")\n",
    "plt.title(\"Rate of Change in Deaths vs Predicted Change of Rate in Deaths\");\n"
   ]
  },
  {
   "cell_type": "code",
   "execution_count": null,
   "id": "a6aabe4d-89c5-445d-bf08-4404c963bfbc",
   "metadata": {
    "scrolled": true,
    "tags": []
   },
   "outputs": [
    {
     "name": "stdout",
     "output_type": "stream",
     "text": [
      "Train RMSE\n",
      "October '21     0.000048\n",
      "November '21    0.000044\n",
      "\n",
      "Test RMSE\n",
      "October '21     0.000108\n",
      "November '21    0.000125\n",
      "Accuracy: 0.6642123857363356\n"
     ]
    }
   ],
   "source": [
    "print(\"Train RMSE\")\n",
    "print(train_rmse_cases_6d_base_2.to_string())\n",
    "print()\n",
    "print(\"Test RMSE\")\n",
    "print(test_rmse_cases_6d_base_2.to_string())\n",
    "print(\"Accuracy: \" + str(linear_model.score(X_q6d_train_base_2, y_q6d_train_base_2)))"
   ]
  },
  {
   "cell_type": "markdown",
   "id": "3cc8bf21-eae7-4ffa-bad4-516723676c70",
   "metadata": {},
   "source": [
    "## Improved Model"
   ]
  },
  {
   "cell_type": "code",
   "execution_count": null,
   "id": "605e7549",
   "metadata": {
    "tags": []
   },
   "outputs": [
    {
     "data": {
      "image/png": "[encoded data removed]",
      "text/plain": [
       "<Figure size 1440x360 with 1 Axes>"
      ]
     },
     "metadata": {
      "needs_background": "light"
     },
     "output_type": "display_data"
    }
   ],
   "source": [
    "# short-term improved model\n",
    "# predict a week\n",
    "\n",
    "X_q6d_improve = X_q6b\n",
    "y_q6d_improve = two_days\n",
    "\n",
    "X_q6d_train_improve, X_q6d_test_improve, y_q6d_train_improve, y_q6d_test_improve =  train_test_split(X_q6d_improve, y_q6d_improve, test_size = .33, random_state = 42)\n",
    "\n",
    "linear_model = lm.LinearRegression()\n",
    "\n",
    "linear_model.fit(X_q6d_train_improve, y_q6d_train_improve)\n",
    "\n",
    "Y_pred_6d_improve = linear_model.predict(X_q6d_test_improve)\n",
    "\n",
    "train_rmse_cases_6d_improve, test_rmse_cases_6d_improve = rmse(y_q6d_train_improve, linear_model.predict(X_q6d_train_improve)), rmse(y_q6d_test_improve, linear_model.predict(X_q6d_test_improve))\n",
    "f, ax = plt.subplots(figsize=(20,5))\n",
    "plt.scatter(y_q6d_test_improve, Y_pred_6d_improve, alpha=0.5);\n",
    "plt.xlabel(\"Rate of Change in Deaths\")\n",
    "plt.ylabel(\"Predicted Change of Rate in Deaths\")\n",
    "plt.title(\"Rate of Change in Deaths vs Predicted Change of Rate in Deaths\");"
   ]
  },
  {
   "cell_type": "code",
   "execution_count": null,
   "id": "fbe9ea55-072f-4c3a-b9b7-e7c022ac5161",
   "metadata": {},
   "outputs": [
    {
     "name": "stdout",
     "output_type": "stream",
     "text": [
      "Train RMSE\n",
      "9/13/21    0.000005\n",
      "9/14/21    0.000009\n",
      "\n",
      "Test RMSE\n",
      "9/13/21    0.000009\n",
      "9/14/21    0.000015\n",
      "Accuracy: 0.4061811685878902\n"
     ]
    }
   ],
   "source": [
    "print(\"Train RMSE\")\n",
    "print(train_rmse_cases_6d_improve.to_string())\n",
    "print()\n",
    "print(\"Test RMSE\")\n",
    "print(test_rmse_cases_6d_improve.to_string())\n",
    "print(\"Accuracy: \" + str(linear_model.score(X_q6d_train_improve, y_q6d_train_improve)))"
   ]
  },
  {
   "cell_type": "code",
   "execution_count": null,
   "id": "c694d82d-4a22-4c41-a905-205e2ae507fe",
   "metadata": {
    "tags": []
   },
   "outputs": [
    {
     "data": {
      "image/png": "[encoded data removed]",
      "text/plain": [
       "<Figure size 1440x360 with 1 Axes>"
      ]
     },
     "metadata": {
      "needs_background": "light"
     },
     "output_type": "display_data"
    }
   ],
   "source": [
    "# long-term improved model\n",
    "# predict a few months\n",
    "X_q6d_improve_2 = X_q6b\n",
    "y_q6d_improve_2 = few_months.loc[:, [\"October '21\", \"November '21\"]]\n",
    "\n",
    "X_q6d_train_improve_2, X_q6d_test_improve_2, y_q6d_train_improve_2, y_q6d_test_improve_2 =  train_test_split(X_q6d_improve_2, y_q6d_improve_2, test_size = .33, random_state = 42)\n",
    "\n",
    "linear_model = lm.LinearRegression()\n",
    "\n",
    "linear_model.fit(X_q6d_train_improve_2, y_q6d_train_improve_2)\n",
    "\n",
    "Y_pred_6d_improve_2 = linear_model.predict(X_q6d_test_improve_2)\n",
    "\n",
    "\n",
    "train_rmse_cases_6d_improve_2, test_rmse_cases_6d_improve_2 = rmse(y_q6d_train_improve_2, linear_model.predict(X_q6d_train_improve_2)), rmse(y_q6d_test_improve_2, linear_model.predict(X_q6d_test_improve_2))\n",
    "f, ax = plt.subplots(figsize=(20,5))\n",
    "plt.scatter(y_q6d_test_improve_2, Y_pred_6d_improve_2, alpha=0.5)\n",
    "plt.xlabel(\"Rate of Change in Deaths\")\n",
    "plt.ylabel(\"Predicted Change of Rate in Deaths\")\n",
    "plt.title(\"Rate of Change in Deaths vs Predicted Change of Rate in Deaths\");"
   ]
  },
  {
   "cell_type": "code",
   "execution_count": null,
   "id": "d3aa18c5-d276-47ad-8118-21671176cca5",
   "metadata": {
    "scrolled": true,
    "tags": []
   },
   "outputs": [
    {
     "name": "stdout",
     "output_type": "stream",
     "text": [
      "Train RMSE\n",
      "October '21     0.000049\n",
      "November '21    0.000051\n",
      "\n",
      "Test RMSE\n",
      "October '21     0.000119\n",
      "November '21    0.000094\n",
      "Accuracy: 0.6122690517279052\n"
     ]
    }
   ],
   "source": [
    "print(\"Train RMSE\")\n",
    "print(train_rmse_cases_6d_improve_2.to_string())\n",
    "print()\n",
    "print(\"Test RMSE\")\n",
    "print(test_rmse_cases_6d_improve_2.to_string())\n",
    "print(\"Accuracy: \" + str(linear_model.score(X_q6d_train_improve_2, y_q6d_train_improve_2)))"
   ]
  },
  {
   "cell_type": "markdown",
   "id": "74ba1ff2",
   "metadata": {
    "deletable": false,
    "editable": false
   },
   "source": [
    "<!-- END QUESTION -->\n",
    "\n",
    "<!-- BEGIN QUESTION -->\n",
    "\n",
    "### Question 6e\n",
    "\n",
    "Plot and describe the error for both the baseline and improved models as a function of time. In other words, given $x_t$, we wish to predict $\\hat{x}_{t+k}$, and plot the error of these predictions for all $k$.\n",
    "\n",
    "Consider how and why the performance of the model degrades as a function of time using the rate of growth in the error.\n",
    "\n",
    "<!--\n",
    "BEGIN QUESTION\n",
    "name: q6e\n",
    "points: 0\n",
    "manual: True\n",
    "-->"
   ]
  },
  {
   "cell_type": "markdown",
   "id": "82f084e2-ee63-4bc5-9b6e-e7f1e996fe2d",
   "metadata": {},
   "source": [
    "## Baseline Model 6e"
   ]
  },
  {
   "cell_type": "code",
   "execution_count": 378,
   "id": "9fd1992b",
   "metadata": {},
   "outputs": [
    {
     "data": {
      "image/png": "[encoded data removed]",
      "text/plain": [
       "<Figure size 1440x360 with 1 Axes>"
      ]
     },
     "metadata": {
      "needs_background": "light"
     },
     "output_type": "display_data"
    }
   ],
   "source": [
    "# short-term baseline model\n",
    "# predict a week\n",
    "deaths_6e = deaths.copy()\n",
    "deaths_6e = deaths_6e[deaths_6e['Province_State'].isin(dvdf.index)].groupby('Province_State').agg(sum)\n",
    "two_weeks_6e = deaths_6e.loc[:, '9/12/21':'9/26/21']\n",
    "two_weeks_6e = two_weeks_6e.divide(deaths_vaccinations['POPESTIMATE2020'], axis = 0)\n",
    "two_weeks_6e = two_weeks_6e.diff(axis = 1).drop(columns = '9/12/21')\n",
    "\n",
    "X_q6e_base = X_q6a\n",
    "y_q6e_base = two_weeks_6e\n",
    "\n",
    "X_q6e_train_base, X_q6e_test_base, y_q6e_train_base, y_q6e_test_base =  train_test_split(X_q6e_base, y_q6e_base, test_size = .33, random_state = 42)\n",
    "\n",
    "linear_model = lm.LinearRegression()\n",
    "\n",
    "linear_model.fit(X_q6e_train_base, y_q6e_train_base)\n",
    "\n",
    "Y_pred_6e_base = linear_model.predict(X_q6e_test_base)\n",
    "\n",
    "train_rmse_cases_6e_base, test_rmse_cases_6e_base = rmse(y_q6e_train_base, linear_model.predict(X_q6e_train_base)), rmse(y_q6e_test_base, linear_model.predict(X_q6e_test_base))\n",
    "f, ax = plt.subplots(figsize=(20,5))\n",
    "plt.scatter(y_q6e_test_base, Y_pred_6e_base, alpha=0.5);\n",
    "plt.xlabel(\"Rate of Change in Deaths\")\n",
    "plt.ylabel(\"Predicted Change of Rate in Deaths\")\n",
    "plt.title(\"Rate of Change in Deaths vs Predicted Change of Rate in Deaths\");\n"
   ]
  },
  {
   "cell_type": "code",
   "execution_count": 379,
   "id": "a74a2ea0-25b9-463d-9dc0-54a9251a76f8",
   "metadata": {
    "scrolled": true,
    "tags": []
   },
   "outputs": [
    {
     "name": "stdout",
     "output_type": "stream",
     "text": [
      "Train RMSE\n",
      "9/13/21    0.000004\n",
      "9/14/21    0.000006\n",
      "9/15/21    0.000005\n",
      "9/16/21    0.000008\n",
      "9/17/21    0.000007\n",
      "9/18/21    0.000005\n",
      "9/19/21    0.000002\n",
      "9/20/21    0.000005\n",
      "9/21/21    0.000008\n",
      "9/22/21    0.000008\n",
      "9/23/21    0.000006\n",
      "9/24/21    0.000010\n",
      "9/25/21    0.000004\n",
      "9/26/21    0.000002\n",
      "\n",
      "Test RMSE\n",
      "9/13/21    0.000013\n",
      "9/14/21    0.000020\n",
      "9/15/21    0.000020\n",
      "9/16/21    0.000015\n",
      "9/17/21    0.000007\n",
      "9/18/21    0.000005\n",
      "9/19/21    0.000002\n",
      "9/20/21    0.000011\n",
      "9/21/21    0.000024\n",
      "9/22/21    0.000015\n",
      "9/23/21    0.000016\n",
      "9/24/21    0.000008\n",
      "9/25/21    0.000006\n",
      "9/26/21    0.000002\n",
      "Accuracy: 0.48359609201991355\n"
     ]
    }
   ],
   "source": [
    "print(\"Train RMSE\")\n",
    "print(train_rmse_cases_6e_base.to_string())\n",
    "print()\n",
    "print(\"Test RMSE\")\n",
    "print(test_rmse_cases_6e_base.to_string())\n",
    "print(\"Accuracy: \" + str(linear_model.score(X_q6e_train_base, y_q6e_train_base)))"
   ]
  },
  {
   "cell_type": "code",
   "execution_count": 380,
   "id": "e6659e3a-a29c-4b0b-a400-a290ee95e48a",
   "metadata": {},
   "outputs": [
    {
     "data": {
      "image/png": "[encoded data removed]",
      "text/plain": [
       "<Figure size 1440x360 with 1 Axes>"
      ]
     },
     "metadata": {
      "needs_background": "light"
     },
     "output_type": "display_data"
    }
   ],
   "source": [
    "# long-term baseline model\n",
    "# predict a few months\n",
    "\n",
    "X_q6e_base_2 = X_q6a\n",
    "y_q6e_base_2 = few_months.loc[:, :\"December '21\"]\n",
    "\n",
    "X_q6e_train_base_2, X_q6e_test_base_2, y_q6e_train_base_2, y_q6e_test_base_2 =  train_test_split(X_q6e_base_2, y_q6e_base_2, test_size = .33, random_state = 42)\n",
    "\n",
    "linear_model = lm.LinearRegression()\n",
    "\n",
    "linear_model.fit(X_q6e_train_base_2, y_q6e_train_base_2)\n",
    "\n",
    "Y_pred_6e_base_2 = linear_model.predict(X_q6e_test_base_2)\n",
    "\n",
    "train_rmse_cases_6e_base_2, test_rmse_cases_6e_base_2 = rmse(y_q6e_train_base_2, linear_model.predict(X_q6e_train_base_2)), rmse(y_q6e_test_base_2, linear_model.predict(X_q6e_test_base_2))\n",
    "f, ax = plt.subplots(figsize=(20,5))\n",
    "plt.scatter(y_q6e_test_base_2, Y_pred_6e_base_2, alpha=0.5)\n",
    "plt.xlabel(\"Rate of Change in Deaths\")\n",
    "plt.ylabel(\"Predicted Change of Rate in Deaths\")\n",
    "plt.title(\"Rate of Change in Deaths vs Predicted Change of Rate in Deaths\");"
   ]
  },
  {
   "cell_type": "code",
   "execution_count": 381,
   "id": "34013511-24a6-413e-a4df-b5fcdce4104e",
   "metadata": {
    "scrolled": true,
    "tags": []
   },
   "outputs": [
    {
     "name": "stdout",
     "output_type": "stream",
     "text": [
      "Train RMSE\n",
      "September '21    0.000056\n",
      "October '21      0.000048\n",
      "November '21     0.000044\n",
      "December '21     0.000058\n",
      "\n",
      "Test RMSE\n",
      "September '21    0.000084\n",
      "October '21      0.000108\n",
      "November '21     0.000125\n",
      "December '21     0.000068\n",
      "Accuracy: 0.5932735195226945\n"
     ]
    }
   ],
   "source": [
    "print(\"Train RMSE\")\n",
    "print(train_rmse_cases_6e_base_2.to_string())\n",
    "print()\n",
    "print(\"Test RMSE\")\n",
    "print(test_rmse_cases_6e_base_2.to_string())\n",
    "print(\"Accuracy: \" + str(linear_model.score(X_q6e_train_base_2, y_q6e_train_base_2)))"
   ]
  },
  {
   "cell_type": "markdown",
   "id": "4456431b-1b33-4d2e-b34c-9d6a13ea542e",
   "metadata": {},
   "source": [
    "## Improved Model 6e"
   ]
  },
  {
   "cell_type": "code",
   "execution_count": 382,
   "id": "fbba490d-4e15-4ff6-aafd-d7da9a479d63",
   "metadata": {},
   "outputs": [
    {
     "data": {
      "image/png": "[encoded data removed]",
      "text/plain": [
       "<Figure size 1440x360 with 1 Axes>"
      ]
     },
     "metadata": {
      "needs_background": "light"
     },
     "output_type": "display_data"
    }
   ],
   "source": [
    "# short-term baseline model\n",
    "# predict a week\n",
    "\n",
    "X_q6e_improve = X_q6b\n",
    "y_q6e_improve = two_weeks_6e\n",
    "\n",
    "X_q6e_train_improve, X_q6e_test_improve, y_q6e_train_improve, y_q6e_test_improve =  train_test_split(X_q6e_improve, y_q6e_improve, test_size = .33, random_state = 42)\n",
    "\n",
    "linear_model = lm.LinearRegression()\n",
    "\n",
    "linear_model.fit(X_q6e_train_improve, y_q6e_train_improve)\n",
    "\n",
    "Y_pred_6e_improve = linear_model.predict(X_q6e_test_improve)\n",
    "\n",
    "train_rmse_cases_6e_improve, test_rmse_cases_6e_improve = rmse(y_q6e_train_improve, linear_model.predict(X_q6e_train_improve)), rmse(y_q6e_test_improve, linear_model.predict(X_q6e_test_improve))\n",
    "f, ax = plt.subplots(figsize=(20,5))\n",
    "plt.scatter(y_q6e_test_improve, Y_pred_6e_improve, alpha=0.5);\n",
    "plt.xlabel(\"Rate of Change in Deaths\")\n",
    "plt.ylabel(\"Predicted Change of Rate in Deaths\")\n",
    "plt.title(\"Rate of Change in Deaths vs Predicted Change of Rate in Deaths\");"
   ]
  },
  {
   "cell_type": "code",
   "execution_count": 383,
   "id": "b3993cac-0dac-4cde-85ac-af313a751acb",
   "metadata": {
    "scrolled": true,
    "tags": []
   },
   "outputs": [
    {
     "name": "stdout",
     "output_type": "stream",
     "text": [
      "Train RMSE\n",
      "9/13/21    0.000005\n",
      "9/14/21    0.000009\n",
      "9/15/21    0.000005\n",
      "9/16/21    0.000009\n",
      "9/17/21    0.000006\n",
      "9/18/21    0.000005\n",
      "9/19/21    0.000002\n",
      "9/20/21    0.000006\n",
      "9/21/21    0.000010\n",
      "9/22/21    0.000007\n",
      "9/23/21    0.000007\n",
      "9/24/21    0.000010\n",
      "9/25/21    0.000004\n",
      "9/26/21    0.000002\n",
      "\n",
      "Test RMSE\n",
      "9/13/21    0.000009\n",
      "9/14/21    0.000015\n",
      "9/15/21    0.000014\n",
      "9/16/21    0.000019\n",
      "9/17/21    0.000007\n",
      "9/18/21    0.000005\n",
      "9/19/21    0.000002\n",
      "9/20/21    0.000007\n",
      "9/21/21    0.000011\n",
      "9/22/21    0.000011\n",
      "9/23/21    0.000017\n",
      "9/24/21    0.000012\n",
      "9/25/21    0.000004\n",
      "9/26/21    0.000002\n",
      "Accuracy: 0.41891320630567835\n"
     ]
    }
   ],
   "source": [
    "print(\"Train RMSE\")\n",
    "print(train_rmse_cases_6e_improve.to_string())\n",
    "print()\n",
    "print(\"Test RMSE\")\n",
    "print(test_rmse_cases_6e_improve.to_string())\n",
    "print(\"Accuracy: \" + str(linear_model.score(X_q6e_train_improve, y_q6e_train_improve)))"
   ]
  },
  {
   "cell_type": "code",
   "execution_count": 403,
   "id": "fd775e6a-721e-4f85-912f-e32469887a90",
   "metadata": {},
   "outputs": [
    {
     "data": {
      "image/png": "[encoded data removed]",
      "text/plain": [
       "<Figure size 1440x360 with 1 Axes>"
      ]
     },
     "metadata": {
      "needs_background": "light"
     },
     "output_type": "display_data"
    }
   ],
   "source": [
    "# long-term improved model\n",
    "X_q6e_improve_2 = X_q6b\n",
    "# y_q6e_improve_2 = few_months.loc[:, :\"December '21\"]\n",
    "\n",
    "X_q6e_train_improve_2, X_q6e_test_improve_2, y_q6e_train_improve_2, y_q6e_test_improve_2 =  train_test_split(X_q6e_improve_2, y_q6e_improve_2, test_size = .33, random_state = 42)\n",
    "\n",
    "linear_model = lm.LinearRegression()\n",
    "\n",
    "linear_model.fit(X_q6e_train_improve_2, y_q6e_train_improve_2)\n",
    "\n",
    "Y_pred_6e_improve_2 = linear_model.predict(X_q6e_test_improve_2)\n",
    "\n",
    "train_rmse_cases_6e_improve_2, test_rmse_cases_6e_improve_2 = rmse(y_q6e_train_improve_2, linear_model.predict(X_q6e_train_improve_2)), rmse(y_q6e_test_improve_2, linear_model.predict(X_q6e_test_improve_2))\n",
    "f, ax = plt.subplots(figsize=(20,5))\n",
    "plt.scatter(y_q6e_test_improve_2, Y_pred_6e_improve_2, alpha=0.5)\n",
    "plt.xlabel(\"Rate of Change in Deaths\")\n",
    "plt.ylabel(\"Predicted Change of Rate in Deaths\")\n",
    "plt.title(\"Rate of Change in Deaths vs Predicted Change of Rate in Deaths\");"
   ]
  },
  {
   "cell_type": "code",
   "execution_count": 404,
   "id": "b8659faa-8e76-4340-affa-0b121e7fc0ff",
   "metadata": {
    "scrolled": true,
    "tags": []
   },
   "outputs": [
    {
     "name": "stdout",
     "output_type": "stream",
     "text": [
      "Train RMSE\n",
      "September '21    0.000063\n",
      "October '21      0.000049\n",
      "November '21     0.000051\n",
      "December '21     0.000063\n",
      "\n",
      "Test RMSE\n",
      "September '21    0.000097\n",
      "October '21      0.000119\n",
      "November '21     0.000094\n",
      "December '21     0.000035\n",
      "Accuracy: 0.5216472531439558\n"
     ]
    }
   ],
   "source": [
    "print(\"Train RMSE\")\n",
    "print(train_rmse_cases_6e_improve_2.to_string())\n",
    "print()\n",
    "print(\"Test RMSE\")\n",
    "print(test_rmse_cases_6e_improve_2.to_string())\n",
    "print(\"Accuracy: \" + str(linear_model.score(X_q6e_train_improve_2, y_q6e_train_improve_2)))"
   ]
  },
  {
   "cell_type": "markdown",
   "id": "526caa49",
   "metadata": {
    "deletable": false,
    "editable": false
   },
   "source": [
    "<!-- END QUESTION -->\n",
    "\n",
    "<!-- BEGIN QUESTION -->\n",
    "\n",
    "### Question 6f\n",
    "\n",
    "Consider a modification to the model $f(x) = x_{t+1}$ where instead $f(x) = [x_{t+1}, x_{t+2}, ..., x_{t+m}]$ for some $m > 1$. In other words, using the features $x$ that contain past and present quantities, our model *explicitly* predicts values for $m$ days in the future rather than simply the next day (i.e. $m = 1$). \n",
    "\n",
    "Train the baseline and improved model using $m = 5$ and $m = 10$. Evaluate and visualize the predictive accuracy of both models.\n",
    "\n",
    "<!--\n",
    "BEGIN QUESTION\n",
    "name: q6f\n",
    "points: 0\n",
    "manual: True\n",
    "-->"
   ]
  },
  {
   "cell_type": "markdown",
   "id": "88bafaf5-82d5-4b98-9888-ccac3cd2e660",
   "metadata": {},
   "source": [
    "# Model With 30 Days\n"
   ]
  },
  {
   "cell_type": "code",
   "execution_count": 405,
   "id": "535e290f",
   "metadata": {},
   "outputs": [
    {
     "data": {
      "text/plain": [
       "(3.796195910327839e-07, 7.5208658094055e-06)"
      ]
     },
     "execution_count": 405,
     "metadata": {},
     "output_type": "execute_result"
    }
   ],
   "source": [
    "# 30 day features\n",
    "df_6f = deaths_6d.loc[:, '8/11/21':]\n",
    "df_6f = df_6f.divide(deaths_vaccinations['POPESTIMATE2020'], axis = 0)\n",
    "df_6f = df_6f.diff(axis = 1).drop(columns = '8/11/21')\n",
    "df_6f['People_Fully_Vaccinated'] = deaths_vaccinations['People_Fully_Vaccinated'] / deaths_vaccinations['POPESTIMATE2020'] \n",
    "df_6f['People_Partially_Vaccinated'] = deaths_vaccinations['People_Partially_Vaccinated'] / deaths_vaccinations['POPESTIMATE2020'] \n",
    "df_6f\n",
    "\n",
    "X_q6f = df_6f.loc[:, '8/12/21':'9/10/21']\n",
    "y_q6f = df_6f['9/11/21']\n",
    "\n",
    "# Make sure to set random_state = 42 and test_size = 0.33!\n",
    "X_q6f_train, X_q6f_test, y_q6f_train, y_q6f_test =  train_test_split(X_q6f, y_q6f, test_size = .33, random_state = 42)\n",
    "\n",
    "# import sklearn.linear_model as lm\n",
    "\n",
    "linear_model = lm.LinearRegression()\n",
    "\n",
    "linear_model.fit(X_q6f_train, y_q6f_train)\n",
    "\n",
    "Y_pred_6f = linear_model.predict(X_q6f_test)\n",
    "\n",
    "train_rmse_cases_6f, test_rmse_cases_6f =  rmse(y_q6f_train, linear_model.predict(X_q6f_train)), rmse(y_q6f_test, linear_model.predict(X_q6f_test))\n",
    "train_rmse_cases_6f, test_rmse_cases_6f"
   ]
  },
  {
   "cell_type": "markdown",
   "id": "a501968f-9167-4225-a6d6-6a36a1225d53",
   "metadata": {
    "tags": []
   },
   "source": [
    "The 30 day feature has a lower train and test RMSE than the baseline and improved model. We have improved the model again \n",
    "and will predict future days with just one month worth of previous data from October 12, 2021 to September 10, 2021."
   ]
  },
  {
   "cell_type": "code",
   "execution_count": 406,
   "id": "0311a738-7db9-4a66-a592-ee941c686641",
   "metadata": {},
   "outputs": [
    {
     "data": {
      "image/png": "[encoded data removed]",
      "text/plain": [
       "<Figure size 1440x360 with 1 Axes>"
      ]
     },
     "metadata": {
      "needs_background": "light"
     },
     "output_type": "display_data"
    }
   ],
   "source": [
    "# short-term 30 days model\n",
    "X_q6f_improve = df_6f.loc[:, '8/12/21':'9/10/21']\n",
    "two_weeks_6f = df_6f.loc[:, '9/11/21':'9/24/21']\n",
    "y_q6f_improve = two_weeks_6f\n",
    "\n",
    "X_q6f_train_improve, X_q6f_test_improve, y_q6f_train_improve, y_q6f_test_improve =  train_test_split(X_q6f_improve, y_q6f_improve, test_size = .33, random_state = 42)\n",
    "\n",
    "linear_model = lm.LinearRegression()\n",
    "\n",
    "linear_model.fit(X_q6f_train_improve, y_q6f_train_improve)\n",
    "\n",
    "Y_pred_6f_improve = linear_model.predict(X_q6f_test_improve)\n",
    "\n",
    "train_rmse_cases_6f_improve, test_rmse_cases_6f_improve =  rmse(y_q6f_train_improve, linear_model.predict(X_q6f_train_improve)), rmse(y_q6f_test_improve, linear_model.predict(X_q6f_test_improve))\n",
    "f, ax = plt.subplots(figsize=(20,5))\n",
    "plt.scatter(y_q6f_test_improve, Y_pred_6f_improve, alpha=0.5)\n",
    "plt.xlabel(\"Rate of Change in Deaths\")\n",
    "plt.ylabel(\"Predicted Change of Rate in Deaths\")\n",
    "plt.title(\"Rate of Change in Deaths vs Predicted Change of Rate in Deaths\");"
   ]
  },
  {
   "cell_type": "code",
   "execution_count": 407,
   "id": "347e4029-c524-4d0e-bf0b-351d01f604be",
   "metadata": {
    "scrolled": true,
    "tags": []
   },
   "outputs": [
    {
     "name": "stdout",
     "output_type": "stream",
     "text": [
      "Train RMSE\n",
      "9/11/21    3.796196e-07\n",
      "9/12/21    9.068398e-08\n",
      "9/13/21    4.725364e-07\n",
      "9/14/21    5.689251e-07\n",
      "9/15/21    7.402878e-07\n",
      "9/16/21    2.010958e-07\n",
      "9/17/21    6.707108e-07\n",
      "9/18/21    1.969415e-07\n",
      "9/19/21    1.759948e-07\n",
      "9/20/21    6.988045e-07\n",
      "9/21/21    5.715877e-07\n",
      "9/22/21    1.266204e-06\n",
      "9/23/21    1.343199e-06\n",
      "9/24/21    1.292419e-06\n",
      "\n",
      "Test RMSE\n",
      "9/11/21    0.000008\n",
      "9/12/21    0.000003\n",
      "9/13/21    0.000020\n",
      "9/14/21    0.000017\n",
      "9/15/21    0.000009\n",
      "9/16/21    0.000013\n",
      "9/17/21    0.000016\n",
      "9/18/21    0.000014\n",
      "9/19/21    0.000007\n",
      "9/20/21    0.000017\n",
      "9/21/21    0.000046\n",
      "9/22/21    0.000028\n",
      "9/23/21    0.000029\n",
      "9/24/21    0.000029\n",
      "Accuracy: 0.9920724458701972\n"
     ]
    }
   ],
   "source": [
    "print(\"Train RMSE\")\n",
    "print(train_rmse_cases_6f_improve.to_string())\n",
    "print()\n",
    "print(\"Test RMSE\")\n",
    "print(test_rmse_cases_6f_improve.to_string())\n",
    "print(\"Accuracy: \" + str(linear_model.score(X_q6f_train_improve, y_q6f_train_improve)))"
   ]
  },
  {
   "cell_type": "code",
   "execution_count": 408,
   "id": "88f5e439-3e56-49bf-87d0-98237ee02236",
   "metadata": {},
   "outputs": [
    {
     "data": {
      "image/png": "[encoded data removed]",
      "text/plain": [
       "<Figure size 1440x360 with 1 Axes>"
      ]
     },
     "metadata": {
      "needs_background": "light"
     },
     "output_type": "display_data"
    }
   ],
   "source": [
    "# long-term 30 days model\n",
    "X_q6f_improve_2 = X_q6f_improve\n",
    "# predict 2 months\n",
    "y_q6f_improve_2 = few_months.loc[:, [\"October '21\", \"November '21\"]]\n",
    "\n",
    "X_q6f_train_improve_2, X_q6f_test_improve_2, y_q6f_train_improve_2, y_q6f_test_improve_2 =  train_test_split(X_q6f_improve_2, y_q6f_improve_2, test_size = .33, random_state = 42)\n",
    "\n",
    "linear_model = lm.LinearRegression()\n",
    "\n",
    "linear_model.fit(X_q6f_train_improve_2, y_q6f_train_improve_2)\n",
    "\n",
    "Y_pred_6f_improve_2 = linear_model.predict(X_q6f_test_improve_2)\n",
    "\n",
    "train_rmse_cases_6f_improve_2, test_rmse_cases_6f_improve_2 =  rmse(y_q6f_train_improve_2, linear_model.predict(X_q6f_train_improve_2)), rmse(y_q6f_test_improve_2, linear_model.predict(X_q6f_test_improve_2))\n",
    "f, ax = plt.subplots(figsize=(20,5))\n",
    "plt.scatter(y_q6f_test_improve_2, Y_pred_6f_improve_2, alpha=0.5)\n",
    "plt.xlabel(\"Rate of Change in Deaths\")\n",
    "plt.ylabel(\"Predicted Change of Rate in Deaths\")\n",
    "plt.title(\"Rate of Change in Deaths vs Predicted Change of Rate in Deaths\");"
   ]
  },
  {
   "cell_type": "code",
   "execution_count": 409,
   "id": "ada03479-2f27-44ba-a0aa-595dfed93877",
   "metadata": {},
   "outputs": [
    {
     "name": "stdout",
     "output_type": "stream",
     "text": [
      "Train RMSE\n",
      "October '21     0.000015\n",
      "November '21    0.000017\n",
      "\n",
      "Test RMSE\n",
      "October '21     0.000273\n",
      "November '21    0.000375\n",
      "Accuracy: 0.9591627712052724\n"
     ]
    }
   ],
   "source": [
    "print(\"Train RMSE\")\n",
    "print(train_rmse_cases_6f_improve_2.to_string())\n",
    "print()\n",
    "print(\"Test RMSE\")\n",
    "print(test_rmse_cases_6f_improve_2.to_string())\n",
    "print(\"Accuracy: \" + str(linear_model.score(X_q6f_train_improve_2, y_q6f_train_improve_2)))"
   ]
  },
  {
   "cell_type": "code",
   "execution_count": 433,
   "id": "f3f488a3-2f0b-4303-a388-ab820b04b3fc",
   "metadata": {},
   "outputs": [
    {
     "data": {
      "image/png": "[encoded data removed]",
      "text/plain": [
       "<Figure size 1440x360 with 1 Axes>"
      ]
     },
     "metadata": {
      "needs_background": "light"
     },
     "output_type": "display_data"
    }
   ],
   "source": [
    "# Finally, lets see how accurate our new model can predict the rate of deaths\n",
    "# long-term 30 days model\n",
    "X_q6f_improve_3 = X_q6f_improve\n",
    "# predict days up to latest deaths\n",
    "y_q6f_improve_3 = df_6f.loc[:, \"9/11/21\":\"12/8/21\"]\n",
    "X_q6f_train_improve_3, X_q6f_test_improve_3, y_q6f_train_improve_3, y_q6f_test_improve_3 =  train_test_split(X_q6f_improve_3, y_q6f_improve_3, test_size = .33, random_state = 42)\n",
    "\n",
    "linear_model = lm.LinearRegression()\n",
    "\n",
    "linear_model.fit(X_q6f_train_improve_3, y_q6f_train_improve_3)\n",
    "\n",
    "Y_pred_6f_improve_3 = linear_model.predict(X_q6f_test_improve_3)\n",
    "\n",
    "train_rmse_cases_6f_improve_3, test_rmse_cases_6f_improve_3 =  rmse(y_q6f_train_improve_3, linear_model.predict(X_q6f_train_improve_3)), rmse(y_q6f_test_improve_3, linear_model.predict(X_q6f_test_improve_3))\n",
    "f, ax = plt.subplots(figsize=(20,5))\n",
    "plt.scatter(y_q6f_test_improve_3, Y_pred_6f_improve_3, alpha=0.5)\n",
    "plt.xlabel(\"Rate of Change in Deaths\")\n",
    "plt.ylabel(\"Predicted Change of Rate in Deaths\")\n",
    "plt.title(\"Rate of Change in Deaths vs Predicted Change of Rate in Deaths\");"
   ]
  },
  {
   "cell_type": "code",
   "execution_count": 411,
   "id": "fa7bc361-a3f8-40d9-ad72-301404459e19",
   "metadata": {
    "scrolled": true,
    "tags": []
   },
   "outputs": [
    {
     "name": "stdout",
     "output_type": "stream",
     "text": [
      "Train RMSE\n",
      "9/11/21     3.796196e-07\n",
      "9/12/21     9.068398e-08\n",
      "9/13/21     4.725364e-07\n",
      "9/14/21     5.689251e-07\n",
      "9/15/21     7.402878e-07\n",
      "9/16/21     2.010958e-07\n",
      "9/17/21     6.707108e-07\n",
      "9/18/21     1.969415e-07\n",
      "9/19/21     1.759948e-07\n",
      "9/20/21     6.988045e-07\n",
      "9/21/21     5.715877e-07\n",
      "9/22/21     1.266204e-06\n",
      "9/23/21     1.343199e-06\n",
      "9/24/21     1.292419e-06\n",
      "9/25/21     7.138893e-07\n",
      "9/26/21     3.601277e-07\n",
      "9/27/21     1.363445e-06\n",
      "9/28/21     9.803167e-06\n",
      "9/29/21     1.588067e-06\n",
      "9/30/21     5.365695e-07\n",
      "10/1/21     3.691471e-07\n",
      "10/2/21     8.710209e-07\n",
      "10/3/21     1.298875e-07\n",
      "10/4/21     1.096848e-06\n",
      "10/5/21     7.123247e-07\n",
      "10/6/21     2.484674e-06\n",
      "10/7/21     6.190780e-07\n",
      "10/8/21     1.169369e-06\n",
      "10/9/21     6.015065e-07\n",
      "10/10/21    6.176157e-08\n",
      "10/11/21    1.162615e-06\n",
      "10/12/21    9.685511e-07\n",
      "10/13/21    2.173559e-06\n",
      "10/14/21    5.858166e-07\n",
      "10/15/21    1.782768e-06\n",
      "10/16/21    6.194479e-07\n",
      "10/17/21    1.876990e-07\n",
      "10/18/21    1.818198e-06\n",
      "10/19/21    2.007063e-06\n",
      "10/20/21    1.881530e-06\n",
      "10/21/21    6.877662e-07\n",
      "10/22/21    8.306934e-07\n",
      "10/23/21    1.100464e-06\n",
      "10/24/21    4.128299e-08\n",
      "10/25/21    4.956322e-07\n",
      "10/26/21    1.513803e-06\n",
      "10/27/21    2.106917e-06\n",
      "10/28/21    6.988028e-07\n",
      "10/29/21    1.364407e-06\n",
      "10/30/21    4.429874e-07\n",
      "10/31/21    1.682892e-07\n",
      "11/1/21     7.660416e-07\n",
      "11/2/21     7.028701e-07\n",
      "11/3/21     2.364926e-06\n",
      "11/4/21     5.065905e-07\n",
      "11/5/21     1.700374e-06\n",
      "11/6/21     1.090731e-07\n",
      "11/7/21     1.870224e-07\n",
      "11/8/21     1.023000e-06\n",
      "11/9/21     9.960045e-07\n",
      "11/10/21    1.282658e-06\n",
      "11/11/21    9.822652e-07\n",
      "11/12/21    1.482998e-06\n",
      "11/13/21    8.179843e-07\n",
      "11/14/21    1.537210e-07\n",
      "11/15/21    7.600269e-07\n",
      "11/16/21    1.073057e-06\n",
      "11/17/21    1.658248e-06\n",
      "11/18/21    8.547526e-07\n",
      "11/19/21    1.067056e-06\n",
      "11/20/21    2.401621e-07\n",
      "11/21/21    5.927846e-08\n",
      "11/22/21    1.581244e-06\n",
      "11/23/21    1.530591e-06\n",
      "11/24/21    9.729845e-07\n",
      "11/25/21    5.900234e-07\n",
      "11/26/21    1.349347e-06\n",
      "11/27/21    6.272436e-08\n",
      "11/28/21    2.387423e-07\n",
      "11/29/21    9.294940e-07\n",
      "11/30/21    1.290642e-06\n",
      "12/1/21     3.519708e-06\n",
      "12/2/21     6.998950e-06\n",
      "12/3/21     2.346278e-06\n",
      "12/4/21     5.115209e-07\n",
      "12/5/21     2.097775e-07\n",
      "12/6/21     1.531790e-06\n",
      "12/7/21     1.320199e-06\n",
      "12/8/21     2.078291e-06\n",
      "\n",
      "Test RMSE\n",
      "9/11/21     0.000008\n",
      "9/12/21     0.000003\n",
      "9/13/21     0.000020\n",
      "9/14/21     0.000017\n",
      "9/15/21     0.000009\n",
      "9/16/21     0.000013\n",
      "9/17/21     0.000016\n",
      "9/18/21     0.000014\n",
      "9/19/21     0.000007\n",
      "9/20/21     0.000017\n",
      "9/21/21     0.000046\n",
      "9/22/21     0.000028\n",
      "9/23/21     0.000029\n",
      "9/24/21     0.000029\n",
      "9/25/21     0.000012\n",
      "9/26/21     0.000010\n",
      "9/27/21     0.000021\n",
      "9/28/21     0.000103\n",
      "9/29/21     0.000039\n",
      "9/30/21     0.000023\n",
      "10/1/21     0.000029\n",
      "10/2/21     0.000022\n",
      "10/3/21     0.000003\n",
      "10/4/21     0.000038\n",
      "10/5/21     0.000036\n",
      "10/6/21     0.000011\n",
      "10/7/21     0.000019\n",
      "10/8/21     0.000054\n",
      "10/9/21     0.000021\n",
      "10/10/21    0.000008\n",
      "10/11/21    0.000024\n",
      "10/12/21    0.000049\n",
      "10/13/21    0.000068\n",
      "10/14/21    0.000017\n",
      "10/15/21    0.000014\n",
      "10/16/21    0.000018\n",
      "10/17/21    0.000007\n",
      "10/18/21    0.000043\n",
      "10/19/21    0.000062\n",
      "10/20/21    0.000052\n",
      "10/21/21    0.000040\n",
      "10/22/21    0.000037\n",
      "10/23/21    0.000007\n",
      "10/24/21    0.000004\n",
      "10/25/21    0.000014\n",
      "10/26/21    0.000091\n",
      "10/27/21    0.000031\n",
      "10/28/21    0.000015\n",
      "10/29/21    0.000030\n",
      "10/30/21    0.000012\n",
      "10/31/21    0.000007\n",
      "11/1/21     0.000066\n",
      "11/2/21     0.000022\n",
      "11/3/21     0.000048\n",
      "11/4/21     0.000046\n",
      "11/5/21     0.000020\n",
      "11/6/21     0.000009\n",
      "11/7/21     0.000004\n",
      "11/8/21     0.000066\n",
      "11/9/21     0.000025\n",
      "11/10/21    0.000082\n",
      "11/11/21    0.000007\n",
      "11/12/21    0.000062\n",
      "11/13/21    0.000010\n",
      "11/14/21    0.000009\n",
      "11/15/21    0.000014\n",
      "11/16/21    0.000033\n",
      "11/17/21    0.000089\n",
      "11/18/21    0.000044\n",
      "11/19/21    0.000054\n",
      "11/20/21    0.000011\n",
      "11/21/21    0.000002\n",
      "11/22/21    0.000022\n",
      "11/23/21    0.000098\n",
      "11/24/21    0.000128\n",
      "11/25/21    0.000028\n",
      "11/26/21    0.000018\n",
      "11/27/21    0.000009\n",
      "11/28/21    0.000005\n",
      "11/29/21    0.000032\n",
      "11/30/21    0.000099\n",
      "12/1/21     0.000071\n",
      "12/2/21     0.000385\n",
      "12/3/21     0.000107\n",
      "12/4/21     0.000027\n",
      "12/5/21     0.000010\n",
      "12/6/21     0.000023\n",
      "12/7/21     0.000044\n",
      "12/8/21     0.000068\n",
      "Accuracy: 0.9672912006930158\n"
     ]
    }
   ],
   "source": [
    "print(\"Train RMSE\")\n",
    "print(train_rmse_cases_6f_improve_3.to_string())\n",
    "print()\n",
    "print(\"Test RMSE\")\n",
    "print(test_rmse_cases_6f_improve_3.to_string())\n",
    "print(\"Accuracy: \" + str(linear_model.score(X_q6f_train_improve_3, y_q6f_train_improve_3)))"
   ]
  },
  {
   "cell_type": "markdown",
   "id": "6de4f2bc-0bab-481f-9245-37e0a88366cc",
   "metadata": {},
   "source": [
    "# Overview Comparison of RMSE and Model Peformances\n",
    "\n",
    "#### 6a Model Train and Test RMSE - Base\n",
    "(1.638483009443846e-05, 6.562563236544584e-05)\n",
    "\n",
    "#### 6b Model Train and Test RMSE - Improve\n",
    "(1.2953704365009264e-05, 2.9977873507974467e-05)\n",
    "\n",
    "#### 6f Model Train and Test Rmse - Improve 2\n",
    "(3.796195910327839e-07, 7.5208658094055e-06)\n",
    "\n",
    "### 6d base short\n",
    "Train RMSE\\\n",
    "9/13/21    0.000004\\\n",
    "9/14/21    0.000006\n",
    "\n",
    "Test RMSE\\\n",
    "9/13/21    0.000013\\\n",
    "9/14/21    0.000020\\\n",
    "Accuracy: `0.6337354429959771`\n",
    "\n",
    "### 6d base long\n",
    "Train RMSE\\\n",
    "November '21    0.000044\\\n",
    "December '21    0.000058\n",
    "\n",
    "Test RMSE\\\n",
    "November '21    0.000125\\\n",
    "December '21    0.000068\\\n",
    "Accuracy: `0.4869025631877755`\n",
    "\n",
    "### 6d short improve \n",
    "Train RMSE\\\n",
    "9/13/21    0.000005\\\n",
    "9/14/21    0.000009\n",
    "\n",
    "Test RMSE\\\n",
    "9/13/21    0.000009\\\n",
    "9/14/21    0.000015\\\n",
    "Accuracy: `0.4061811685878902`\n",
    "\n",
    "### 6d long improve \n",
    "Train RMSE\\\n",
    "November '21    0.000051\\\n",
    "December '21    0.000063\n",
    "\n",
    "Test RMSE\\\n",
    "November '21    0.000094\\\n",
    "December '21    0.000035\\\n",
    "Accuracy: `0.3832385180135171`\n",
    "\n",
    "### 6e short base\n",
    "Train RMSE\\\n",
    "9/13/21    0.000004\\\n",
    "9/14/21    0.000006\\\n",
    "9/15/21    0.000005\\\n",
    "9/16/21    0.000008\\\n",
    "9/17/21    0.000007\\\n",
    "9/18/21    0.000005\\\n",
    "9/19/21    0.000002\\\n",
    "9/20/21    0.000005\\\n",
    "9/21/21    0.000008\\\n",
    "9/22/21    0.000008\\\n",
    "9/23/21    0.000006\\\n",
    "9/24/21    0.000010\\\n",
    "9/25/21    0.000004\\\n",
    "9/26/21    0.000002\n",
    "\n",
    "Test RMSE\\\n",
    "9/13/21    0.000013\\\n",
    "9/14/21    0.000020\\\n",
    "9/15/21    0.000020\\\n",
    "9/16/21    0.000015\\\n",
    "9/17/21    0.000007\\\n",
    "9/18/21    0.000005\\\n",
    "9/19/21    0.000002\\\n",
    "9/20/21    0.000011\\\n",
    "9/21/21    0.000024\\\n",
    "9/22/21    0.000015\\\n",
    "9/23/21    0.000016\\\n",
    "9/24/21    0.000008\\\n",
    "9/25/21    0.000006\\\n",
    "9/26/21    0.000002\\\n",
    "Accuracy: `0.48359609201991355`\n",
    "\n",
    "### 6e long base\n",
    "Train RMSE\\\n",
    "September '21    0.000056\\\n",
    "October '21      0.000048\\\n",
    "November '21     0.000044\\\n",
    "December '21     0.000058\n",
    "\n",
    "Test RMSE\\\n",
    "September '21    0.000084\\\n",
    "October '21      0.000108\\\n",
    "November '21     0.000125\\\n",
    "December '21     0.000068\\\n",
    "Accuracy: `0.5932735195226945`\n",
    "\n",
    "### 6e short improve\n",
    "Train RMSE\\\n",
    "9/13/21    0.000005\\\n",
    "9/14/21    0.000009\\\n",
    "9/15/21    0.000005\\\n",
    "9/16/21    0.000009\\\n",
    "9/17/21    0.000006\\\n",
    "9/18/21    0.000005\\\n",
    "9/19/21    0.000002\\\n",
    "9/20/21    0.000006\\\n",
    "9/21/21    0.000010\\\n",
    "9/22/21    0.000007\\\n",
    "9/23/21    0.000007\\\n",
    "9/24/21    0.000010\\\n",
    "9/25/21    0.000004\\\n",
    "9/26/21    0.000002\n",
    "\n",
    "Test RMSE\\\n",
    "9/13/21    0.000009\\\n",
    "9/14/21    0.000015\\\n",
    "9/15/21    0.000014\\\n",
    "9/16/21    0.000019\\\n",
    "9/17/21    0.000007\\\n",
    "9/18/21    0.000005\\\n",
    "9/19/21    0.000002\\\n",
    "9/20/21    0.000007\\\n",
    "9/21/21    0.000011\\\n",
    "9/22/21    0.000011\\\n",
    "9/23/21    0.000017\\\n",
    "9/24/21    0.000012\\\n",
    "9/25/21    0.000004\\\n",
    "9/26/21    0.000002\\\n",
    "Accuracy: `0.41891320630567835`\n",
    "\n",
    "### 6e long improve\n",
    "Train RMSE\\\n",
    "September '21    0.000063\\\n",
    "October '21      0.000049\\\n",
    "November '21     0.000051\\\n",
    "December '21     0.000063\n",
    "\n",
    "Test RMSE\\\n",
    "September '21    0.000097\\\n",
    "October '21      0.000119\\\n",
    "November '21     0.000094\\\n",
    "December '21     0.000035\\\n",
    "Accuracy: `0.5216472531439558`\n",
    "\n",
    "### 6f improve 1\n",
    "Train RMSE\\\n",
    "9/11/21    3.796196e-07\\\n",
    "9/12/21    9.068398e-08\\\n",
    "9/13/21    4.725364e-07\\\n",
    "9/14/21    5.689251e-07\\\n",
    "9/15/21    7.402878e-07\\\n",
    "9/16/21    2.010958e-07\\\n",
    "9/17/21    6.707108e-07\\\n",
    "9/18/21    1.969415e-07\\\n",
    "9/19/21    1.759948e-07\\\n",
    "9/20/21    6.988045e-07\\\n",
    "9/21/21    5.715877e-07\\\n",
    "9/22/21    1.266204e-06\\\n",
    "9/23/21    1.343199e-06\\\n",
    "9/24/21    1.292419e-06\n",
    "\n",
    "Test RMSE\\\n",
    "9/11/21    0.000008\\\n",
    "9/12/21    0.000003\\\n",
    "9/13/21    0.000020\\\n",
    "9/14/21    0.000017\\\n",
    "9/15/21    0.000009\\\n",
    "9/16/21    0.000013\\\n",
    "9/17/21    0.000016\\\n",
    "9/18/21    0.000014\\\n",
    "9/19/21    0.000007\\\n",
    "9/20/21    0.000017\\\n",
    "9/21/21    0.000046\\\n",
    "9/22/21    0.000028\\\n",
    "9/23/21    0.000029\\\n",
    "9/24/21    0.000029\\\n",
    "Accuracy: `0.9920724458701972`\n",
    "\n",
    "### 6f improve 2\n",
    "Train RMSE\\\n",
    "November '21    0.000017\\\n",
    "December '21    0.000006\n",
    "\n",
    "Test RMSE\\\n",
    "November '21    0.000375\\\n",
    "December '21    0.000526\\\n",
    "Accuracy: `0.9720566057529301`\n",
    "\n",
    "### 6f improve 3\n",
    "Train RMSE\\\n",
    "9/11/21     3.796196e-07\\\n",
    "9/12/21     9.068398e-08\\\n",
    "9/13/21     4.725364e-07\\\n",
    "9/14/21     5.689251e-07\\\n",
    "9/15/21     7.402878e-07\\\n",
    "9/16/21     2.010958e-07\\\n",
    "9/17/21     6.707108e-07\\\n",
    "9/18/21     1.969415e-07\\\n",
    "9/19/21     1.759948e-07\\\n",
    "9/20/21     6.988045e-07\\\n",
    "9/21/21     5.715877e-07\\\n",
    "9/22/21     1.266204e-06\\\n",
    "9/23/21     1.343199e-06\\\n",
    "9/24/21     1.292419e-06\\\n",
    "9/25/21     7.138893e-07\\\n",
    "9/26/21     3.601277e-07\\\n",
    "9/27/21     1.363445e-06\\\n",
    "9/28/21     9.803167e-06\\\n",
    "9/29/21     1.588067e-06\\\n",
    "9/30/21     5.365695e-07\\\n",
    "10/1/21     3.691471e-07\\\n",
    "10/2/21     8.710209e-07\\\n",
    "10/3/21     1.298875e-07\\\n",
    "10/4/21     1.096848e-06\\\n",
    "10/5/21     7.123247e-07\\\n",
    "10/6/21     2.484674e-06\\\n",
    "10/7/21     6.190780e-07\\\n",
    "10/8/21     1.169369e-06\\\n",
    "10/9/21     6.015065e-07\\\n",
    "10/10/21    6.176157e-08\\\n",
    "10/11/21    1.162615e-06\\\n",
    "10/12/21    9.685511e-07\\\n",
    "10/13/21    2.173559e-06\\\n",
    "10/14/21    5.858166e-07\\\n",
    "10/15/21    1.782768e-06\\\n",
    "10/16/21    6.194479e-07\\\n",
    "10/17/21    1.876990e-07\\\n",
    "10/18/21    1.818198e-06\\\n",
    "10/19/21    2.007063e-06\\\n",
    "10/20/21    1.881530e-06\\\n",
    "10/21/21    6.877662e-07\\\n",
    "10/22/21    8.306934e-07\\\n",
    "10/23/21    1.100464e-06\\\n",
    "10/24/21    4.128299e-08\\\n",
    "10/25/21    4.956322e-07\\\n",
    "10/26/21    1.513803e-06\\\n",
    "10/27/21    2.106917e-06\\\n",
    "10/28/21    6.988028e-07\\\n",
    "10/29/21    1.364407e-06\\\n",
    "10/30/21    4.429874e-07\\\n",
    "10/31/21    1.682892e-07\\\n",
    "11/1/21     7.660416e-07\\\n",
    "11/2/21     7.028701e-07\\\n",
    "11/3/21     2.364926e-06\\\n",
    "11/4/21     5.065905e-07\\\n",
    "11/5/21     1.700374e-06\\\n",
    "11/6/21     1.090731e-07\\\n",
    "11/7/21     1.870224e-07\\\n",
    "11/8/21     1.023000e-06\\\n",
    "11/9/21     9.960045e-07\\\n",
    "11/10/21    1.282658e-06\\\n",
    "11/11/21    9.822652e-07\\\n",
    "11/12/21    1.482998e-06\\\n",
    "11/13/21    8.179843e-07\\\n",
    "11/14/21    1.537210e-07\\\n",
    "11/15/21    7.600269e-07\\\n",
    "11/16/21    1.073057e-06\\\n",
    "11/17/21    1.658248e-06\\\n",
    "11/18/21    8.547526e-07\\\n",
    "11/19/21    1.067056e-06\\\n",
    "11/20/21    2.401621e-07\\\n",
    "11/21/21    5.927846e-08\\\n",
    "11/22/21    1.581244e-06\\\n",
    "11/23/21    1.530591e-06\\\n",
    "11/24/21    9.729845e-07\\\n",
    "11/25/21    5.900234e-07\\\n",
    "11/26/21    1.349347e-06\\\n",
    "11/27/21    6.272436e-08\\\n",
    "11/28/21    2.387423e-07\\\n",
    "11/29/21    9.294940e-07\\\n",
    "11/30/21    1.290642e-06\\\n",
    "12/1/21     3.519708e-06\\\n",
    "12/2/21     6.998950e-06\\\n",
    "12/3/21     2.346278e-06\\\n",
    "12/4/21     5.115209e-07\\\n",
    "12/5/21     2.097775e-07\\\n",
    "12/6/21     1.531790e-06\\\n",
    "12/7/21     1.320199e-06\\\n",
    "12/8/21     2.078291e-06\n",
    "\n",
    "Test RMSE\\\n",
    "9/11/21     0.000008\\\n",
    "9/12/21     0.000003\\\n",
    "9/13/21     0.000020\\\n",
    "9/14/21     0.000017\\\n",
    "9/15/21     0.000009\\\n",
    "9/16/21     0.000013\\\n",
    "9/17/21     0.000016\\\n",
    "9/18/21     0.000014\\\n",
    "9/19/21     0.000007\\\n",
    "9/20/21     0.000017\\\n",
    "9/21/21     0.000046\\\n",
    "9/22/21     0.000028\\\n",
    "9/23/21     0.000029\\\n",
    "9/24/21     0.000029\\\n",
    "9/25/21     0.000012\\\n",
    "9/26/21     0.000010\\\n",
    "9/27/21     0.000021\\\n",
    "9/28/21     0.000103\\\n",
    "9/29/21     0.000039\\\n",
    "9/30/21     0.000023\\\n",
    "10/1/21     0.000029\\\n",
    "10/2/21     0.000022\\\n",
    "10/3/21     0.000003\\\n",
    "10/4/21     0.000038\\\n",
    "10/5/21     0.000036\\\n",
    "10/6/21     0.000011\\\n",
    "10/7/21     0.000019\\\n",
    "10/8/21     0.000054\\\n",
    "10/9/21     0.000021\\\n",
    "10/10/21    0.000008\\\n",
    "10/11/21    0.000024\\\n",
    "10/12/21    0.000049\\\n",
    "10/13/21    0.000068\\\n",
    "10/14/21    0.000017\\\n",
    "10/15/21    0.000014\\\n",
    "10/16/21    0.000018\\\n",
    "10/17/21    0.000007\\\n",
    "10/18/21    0.000043\\\n",
    "10/19/21    0.000062\\\n",
    "10/20/21    0.000052\\\n",
    "10/21/21    0.000040\\\n",
    "10/22/21    0.000037\\\n",
    "10/23/21    0.000007\\\n",
    "10/24/21    0.000004\\\n",
    "10/25/21    0.000014\\\n",
    "10/26/21    0.000091\\\n",
    "10/27/21    0.000031\\\n",
    "10/28/21    0.000015\\\n",
    "10/29/21    0.000030\\\n",
    "10/30/21    0.000012\\\n",
    "10/31/21    0.000007\\\n",
    "11/1/21     0.000066\\\n",
    "11/2/21     0.000022\\\n",
    "11/3/21     0.000048\\\n",
    "11/4/21     0.000046\\\n",
    "11/5/21     0.000020\\\n",
    "11/6/21     0.000009\\\n",
    "11/7/21     0.000004\\\n",
    "11/8/21     0.000066\\\n",
    "11/9/21     0.000025\\\n",
    "11/10/21    0.000082\\\n",
    "11/11/21    0.000007\\\n",
    "11/12/21    0.000062\\\n",
    "11/13/21    0.000010\\\n",
    "11/14/21    0.000009\\\n",
    "11/15/21    0.000014\\\n",
    "11/16/21    0.000033\\\n",
    "11/17/21    0.000089\\\n",
    "11/18/21    0.000044\\\n",
    "11/19/21    0.000054\\\n",
    "11/20/21    0.000011\\\n",
    "11/21/21    0.000002\\\n",
    "11/22/21    0.000022\\\n",
    "11/23/21    0.000098\\\n",
    "11/24/21    0.000128\\\n",
    "11/25/21    0.000028\\\n",
    "11/26/21    0.000018\\\n",
    "11/27/21    0.000009\\\n",
    "11/28/21    0.000005\\\n",
    "11/29/21    0.000032\\\n",
    "11/30/21    0.000099\\\n",
    "12/1/21     0.000071\\\n",
    "12/2/21     0.000385\\\n",
    "12/3/21     0.000107\\\n",
    "12/4/21     0.000027\\\n",
    "12/5/21     0.000010\\\n",
    "12/6/21     0.000023\\\n",
    "12/7/21     0.000044\\\n",
    "12/8/21     0.000068\\\n",
    "Accuracy: `0.9672912006930158`\n"
   ]
  },
  {
   "cell_type": "markdown",
   "id": "eccf9a39-12b3-4841-9b8e-c8b97f233c12",
   "metadata": {},
   "source": [
    "## Future Work"
   ]
  },
  {
   "cell_type": "code",
   "execution_count": 412,
   "id": "87cf3ccd-c62c-4874-8b85-1b2bcee2f4c7",
   "metadata": {},
   "outputs": [
    {
     "data": {
      "application/vnd.plotly.v1+json": {
       "config": {
        "plotlyServerURL": "https://plot.ly"
       },
       "data": [
        {
         "colorbar": {
          "title": {
           "text": "Per Capita"
          }
         },
         "colorscale": [
          [
           0,
           "rgb(247,251,255)"
          ],
          [
           0.125,
           "rgb(222,235,247)"
          ],
          [
           0.25,
           "rgb(198,219,239)"
          ],
          [
           0.375,
           "rgb(158,202,225)"
          ],
          [
           0.5,
           "rgb(107,174,214)"
          ],
          [
           0.625,
           "rgb(66,146,198)"
          ],
          [
           0.75,
           "rgb(33,113,181)"
          ],
          [
           0.875,
           "rgb(8,81,156)"
          ],
          [
           1,
           "rgb(8,48,107)"
          ]
         ],
         "locationmode": "USA-states",
         "locations": [
          "AK",
          "AL",
          "AR",
          "AZ",
          "CA",
          "CO",
          "CT",
          "DC",
          "DE",
          "FL",
          "GA",
          "HI",
          "IA",
          "ID",
          "IL",
          "IN",
          "KS",
          "KY",
          "LA",
          "MA",
          "MD",
          "ME",
          "MI",
          "MN",
          "MO",
          "MS",
          "MT",
          "NC",
          "ND",
          "NE",
          "NH",
          "NJ",
          "NM",
          "NV",
          "NY",
          "OH",
          "OK",
          "OR",
          "PA",
          "RI",
          "SC",
          "SD",
          "TN",
          "TX",
          "UT",
          "VA",
          "VT",
          "WA",
          "WI",
          "WV",
          "WY"
         ],
         "type": "choropleth",
         "z": [
          0.40049338295473846,
          0.4965337234626191,
          0.48707757470590796,
          0.4350445236827187,
          0.5866017131951425,
          0.5825509119845502,
          0.6726151150714955,
          0.5545379095650729,
          0.7166702206460012,
          0.5433784781629234,
          0.4242171604396146,
          0.6558266276049995,
          0.4108312765851466,
          0.5432630547851723,
          0.4691434566606163,
          0.5249056364015108,
          0.4950931857142122,
          0.49933809831077147,
          0.43332275637534395,
          0.664688354771835,
          0.6278116424546245,
          0.6678087447817345,
          0.5129215661780826,
          0.5680247013526847,
          0.41226195620445827,
          0.46221406384214186,
          0.46553369172210773,
          0.529653913804636,
          0.48174003484097394,
          0.6025770800168341,
          0.6412666167625739,
          0.6091631894314204,
          0.6205807524480813,
          0.5046161981951779,
          0.42699876781796636,
          0.4920381619532076,
          0.4525074589597072,
          0.588260964793881,
          0.5630516298901672,
          0.7211228568050136,
          0.4433475021272355,
          0.4970477766190181,
          0.4331356033846612,
          0.4842618339668944,
          0.4969135773978047,
          0.7103475271397793,
          0.5809126829056489,
          0.6068503324576285,
          0.45885475409670734,
          0.5492646144851702,
          0.39671284911596216
         ]
        }
       ],
       "layout": {
        "autosize": true,
        "geo": {
         "scope": "usa"
        },
        "template": {
         "data": {
          "bar": [
           {
            "error_x": {
             "color": "#2a3f5f"
            },
            "error_y": {
             "color": "#2a3f5f"
            },
            "marker": {
             "line": {
              "color": "#E5ECF6",
              "width": 0.5
             },
             "pattern": {
              "fillmode": "overlay",
              "size": 10,
              "solidity": 0.2
             }
            },
            "type": "bar"
           }
          ],
          "barpolar": [
           {
            "marker": {
             "line": {
              "color": "#E5ECF6",
              "width": 0.5
             },
             "pattern": {
              "fillmode": "overlay",
              "size": 10,
              "solidity": 0.2
             }
            },
            "type": "barpolar"
           }
          ],
          "carpet": [
           {
            "aaxis": {
             "endlinecolor": "#2a3f5f",
             "gridcolor": "white",
             "linecolor": "white",
             "minorgridcolor": "white",
             "startlinecolor": "#2a3f5f"
            },
            "baxis": {
             "endlinecolor": "#2a3f5f",
             "gridcolor": "white",
             "linecolor": "white",
             "minorgridcolor": "white",
             "startlinecolor": "#2a3f5f"
            },
            "type": "carpet"
           }
          ],
          "choropleth": [
           {
            "colorbar": {
             "outlinewidth": 0,
             "ticks": ""
            },
            "type": "choropleth"
           }
          ],
          "contour": [
           {
            "colorbar": {
             "outlinewidth": 0,
             "ticks": ""
            },
            "colorscale": [
             [
              0,
              "#0d0887"
             ],
             [
              0.1111111111111111,
              "#46039f"
             ],
             [
              0.2222222222222222,
              "#7201a8"
             ],
             [
              0.3333333333333333,
              "#9c179e"
             ],
             [
              0.4444444444444444,
              "#bd3786"
             ],
             [
              0.5555555555555556,
              "#d8576b"
             ],
             [
              0.6666666666666666,
              "#ed7953"
             ],
             [
              0.7777777777777778,
              "#fb9f3a"
             ],
             [
              0.8888888888888888,
              "#fdca26"
             ],
             [
              1,
              "#f0f921"
             ]
            ],
            "type": "contour"
           }
          ],
          "contourcarpet": [
           {
            "colorbar": {
             "outlinewidth": 0,
             "ticks": ""
            },
            "type": "contourcarpet"
           }
          ],
          "heatmap": [
           {
            "colorbar": {
             "outlinewidth": 0,
             "ticks": ""
            },
            "colorscale": [
             [
              0,
              "#0d0887"
             ],
             [
              0.1111111111111111,
              "#46039f"
             ],
             [
              0.2222222222222222,
              "#7201a8"
             ],
             [
              0.3333333333333333,
              "#9c179e"
             ],
             [
              0.4444444444444444,
              "#bd3786"
             ],
             [
              0.5555555555555556,
              "#d8576b"
             ],
             [
              0.6666666666666666,
              "#ed7953"
             ],
             [
              0.7777777777777778,
              "#fb9f3a"
             ],
             [
              0.8888888888888888,
              "#fdca26"
             ],
             [
              1,
              "#f0f921"
             ]
            ],
            "type": "heatmap"
           }
          ],
          "heatmapgl": [
           {
            "colorbar": {
             "outlinewidth": 0,
             "ticks": ""
            },
            "colorscale": [
             [
              0,
              "#0d0887"
             ],
             [
              0.1111111111111111,
              "#46039f"
             ],
             [
              0.2222222222222222,
              "#7201a8"
             ],
             [
              0.3333333333333333,
              "#9c179e"
             ],
             [
              0.4444444444444444,
              "#bd3786"
             ],
             [
              0.5555555555555556,
              "#d8576b"
             ],
             [
              0.6666666666666666,
              "#ed7953"
             ],
             [
              0.7777777777777778,
              "#fb9f3a"
             ],
             [
              0.8888888888888888,
              "#fdca26"
             ],
             [
              1,
              "#f0f921"
             ]
            ],
            "type": "heatmapgl"
           }
          ],
          "histogram": [
           {
            "marker": {
             "pattern": {
              "fillmode": "overlay",
              "size": 10,
              "solidity": 0.2
             }
            },
            "type": "histogram"
           }
          ],
          "histogram2d": [
           {
            "colorbar": {
             "outlinewidth": 0,
             "ticks": ""
            },
            "colorscale": [
             [
              0,
              "#0d0887"
             ],
             [
              0.1111111111111111,
              "#46039f"
             ],
             [
              0.2222222222222222,
              "#7201a8"
             ],
             [
              0.3333333333333333,
              "#9c179e"
             ],
             [
              0.4444444444444444,
              "#bd3786"
             ],
             [
              0.5555555555555556,
              "#d8576b"
             ],
             [
              0.6666666666666666,
              "#ed7953"
             ],
             [
              0.7777777777777778,
              "#fb9f3a"
             ],
             [
              0.8888888888888888,
              "#fdca26"
             ],
             [
              1,
              "#f0f921"
             ]
            ],
            "type": "histogram2d"
           }
          ],
          "histogram2dcontour": [
           {
            "colorbar": {
             "outlinewidth": 0,
             "ticks": ""
            },
            "colorscale": [
             [
              0,
              "#0d0887"
             ],
             [
              0.1111111111111111,
              "#46039f"
             ],
             [
              0.2222222222222222,
              "#7201a8"
             ],
             [
              0.3333333333333333,
              "#9c179e"
             ],
             [
              0.4444444444444444,
              "#bd3786"
             ],
             [
              0.5555555555555556,
              "#d8576b"
             ],
             [
              0.6666666666666666,
              "#ed7953"
             ],
             [
              0.7777777777777778,
              "#fb9f3a"
             ],
             [
              0.8888888888888888,
              "#fdca26"
             ],
             [
              1,
              "#f0f921"
             ]
            ],
            "type": "histogram2dcontour"
           }
          ],
          "mesh3d": [
           {
            "colorbar": {
             "outlinewidth": 0,
             "ticks": ""
            },
            "type": "mesh3d"
           }
          ],
          "parcoords": [
           {
            "line": {
             "colorbar": {
              "outlinewidth": 0,
              "ticks": ""
             }
            },
            "type": "parcoords"
           }
          ],
          "pie": [
           {
            "automargin": true,
            "type": "pie"
           }
          ],
          "scatter": [
           {
            "marker": {
             "colorbar": {
              "outlinewidth": 0,
              "ticks": ""
             }
            },
            "type": "scatter"
           }
          ],
          "scatter3d": [
           {
            "line": {
             "colorbar": {
              "outlinewidth": 0,
              "ticks": ""
             }
            },
            "marker": {
             "colorbar": {
              "outlinewidth": 0,
              "ticks": ""
             }
            },
            "type": "scatter3d"
           }
          ],
          "scattercarpet": [
           {
            "marker": {
             "colorbar": {
              "outlinewidth": 0,
              "ticks": ""
             }
            },
            "type": "scattercarpet"
           }
          ],
          "scattergeo": [
           {
            "marker": {
             "colorbar": {
              "outlinewidth": 0,
              "ticks": ""
             }
            },
            "type": "scattergeo"
           }
          ],
          "scattergl": [
           {
            "marker": {
             "colorbar": {
              "outlinewidth": 0,
              "ticks": ""
             }
            },
            "type": "scattergl"
           }
          ],
          "scattermapbox": [
           {
            "marker": {
             "colorbar": {
              "outlinewidth": 0,
              "ticks": ""
             }
            },
            "type": "scattermapbox"
           }
          ],
          "scatterpolar": [
           {
            "marker": {
             "colorbar": {
              "outlinewidth": 0,
              "ticks": ""
             }
            },
            "type": "scatterpolar"
           }
          ],
          "scatterpolargl": [
           {
            "marker": {
             "colorbar": {
              "outlinewidth": 0,
              "ticks": ""
             }
            },
            "type": "scatterpolargl"
           }
          ],
          "scatterternary": [
           {
            "marker": {
             "colorbar": {
              "outlinewidth": 0,
              "ticks": ""
             }
            },
            "type": "scatterternary"
           }
          ],
          "surface": [
           {
            "colorbar": {
             "outlinewidth": 0,
             "ticks": ""
            },
            "colorscale": [
             [
              0,
              "#0d0887"
             ],
             [
              0.1111111111111111,
              "#46039f"
             ],
             [
              0.2222222222222222,
              "#7201a8"
             ],
             [
              0.3333333333333333,
              "#9c179e"
             ],
             [
              0.4444444444444444,
              "#bd3786"
             ],
             [
              0.5555555555555556,
              "#d8576b"
             ],
             [
              0.6666666666666666,
              "#ed7953"
             ],
             [
              0.7777777777777778,
              "#fb9f3a"
             ],
             [
              0.8888888888888888,
              "#fdca26"
             ],
             [
              1,
              "#f0f921"
             ]
            ],
            "type": "surface"
           }
          ],
          "table": [
           {
            "cells": {
             "fill": {
              "color": "#EBF0F8"
             },
             "line": {
              "color": "white"
             }
            },
            "header": {
             "fill": {
              "color": "#C8D4E3"
             },
             "line": {
              "color": "white"
             }
            },
            "type": "table"
           }
          ]
         },
         "layout": {
          "annotationdefaults": {
           "arrowcolor": "#2a3f5f",
           "arrowhead": 0,
           "arrowwidth": 1
          },
          "autotypenumbers": "strict",
          "coloraxis": {
           "colorbar": {
            "outlinewidth": 0,
            "ticks": ""
           }
          },
          "colorscale": {
           "diverging": [
            [
             0,
             "#8e0152"
            ],
            [
             0.1,
             "#c51b7d"
            ],
            [
             0.2,
             "#de77ae"
            ],
            [
             0.3,
             "#f1b6da"
            ],
            [
             0.4,
             "#fde0ef"
            ],
            [
             0.5,
             "#f7f7f7"
            ],
            [
             0.6,
             "#e6f5d0"
            ],
            [
             0.7,
             "#b8e186"
            ],
            [
             0.8,
             "#7fbc41"
            ],
            [
             0.9,
             "#4d9221"
            ],
            [
             1,
             "#276419"
            ]
           ],
           "sequential": [
            [
             0,
             "#0d0887"
            ],
            [
             0.1111111111111111,
             "#46039f"
            ],
            [
             0.2222222222222222,
             "#7201a8"
            ],
            [
             0.3333333333333333,
             "#9c179e"
            ],
            [
             0.4444444444444444,
             "#bd3786"
            ],
            [
             0.5555555555555556,
             "#d8576b"
            ],
            [
             0.6666666666666666,
             "#ed7953"
            ],
            [
             0.7777777777777778,
             "#fb9f3a"
            ],
            [
             0.8888888888888888,
             "#fdca26"
            ],
            [
             1,
             "#f0f921"
            ]
           ],
           "sequentialminus": [
            [
             0,
             "#0d0887"
            ],
            [
             0.1111111111111111,
             "#46039f"
            ],
            [
             0.2222222222222222,
             "#7201a8"
            ],
            [
             0.3333333333333333,
             "#9c179e"
            ],
            [
             0.4444444444444444,
             "#bd3786"
            ],
            [
             0.5555555555555556,
             "#d8576b"
            ],
            [
             0.6666666666666666,
             "#ed7953"
            ],
            [
             0.7777777777777778,
             "#fb9f3a"
            ],
            [
             0.8888888888888888,
             "#fdca26"
            ],
            [
             1,
             "#f0f921"
            ]
           ]
          },
          "colorway": [
           "#636efa",
           "#EF553B",
           "#00cc96",
           "#ab63fa",
           "#FFA15A",
           "#19d3f3",
           "#FF6692",
           "#B6E880",
           "#FF97FF",
           "#FECB52"
          ],
          "font": {
           "color": "#2a3f5f"
          },
          "geo": {
           "bgcolor": "white",
           "lakecolor": "white",
           "landcolor": "#E5ECF6",
           "showlakes": true,
           "showland": true,
           "subunitcolor": "white"
          },
          "hoverlabel": {
           "align": "left"
          },
          "hovermode": "closest",
          "mapbox": {
           "style": "light"
          },
          "paper_bgcolor": "white",
          "plot_bgcolor": "#E5ECF6",
          "polar": {
           "angularaxis": {
            "gridcolor": "white",
            "linecolor": "white",
            "ticks": ""
           },
           "bgcolor": "#E5ECF6",
           "radialaxis": {
            "gridcolor": "white",
            "linecolor": "white",
            "ticks": ""
           }
          },
          "scene": {
           "xaxis": {
            "backgroundcolor": "#E5ECF6",
            "gridcolor": "white",
            "gridwidth": 2,
            "linecolor": "white",
            "showbackground": true,
            "ticks": "",
            "zerolinecolor": "white"
           },
           "yaxis": {
            "backgroundcolor": "#E5ECF6",
            "gridcolor": "white",
            "gridwidth": 2,
            "linecolor": "white",
            "showbackground": true,
            "ticks": "",
            "zerolinecolor": "white"
           },
           "zaxis": {
            "backgroundcolor": "#E5ECF6",
            "gridcolor": "white",
            "gridwidth": 2,
            "linecolor": "white",
            "showbackground": true,
            "ticks": "",
            "zerolinecolor": "white"
           }
          },
          "shapedefaults": {
           "line": {
            "color": "#2a3f5f"
           }
          },
          "ternary": {
           "aaxis": {
            "gridcolor": "white",
            "linecolor": "white",
            "ticks": ""
           },
           "baxis": {
            "gridcolor": "white",
            "linecolor": "white",
            "ticks": ""
           },
           "bgcolor": "#E5ECF6",
           "caxis": {
            "gridcolor": "white",
            "linecolor": "white",
            "ticks": ""
           }
          },
          "title": {
           "x": 0.05
          },
          "xaxis": {
           "automargin": true,
           "gridcolor": "white",
           "linecolor": "white",
           "ticks": "",
           "title": {
            "standoff": 15
           },
           "zerolinecolor": "white",
           "zerolinewidth": 2
          },
          "yaxis": {
           "automargin": true,
           "gridcolor": "white",
           "linecolor": "white",
           "ticks": "",
           "title": {
            "standoff": 15
           },
           "zerolinecolor": "white",
           "zerolinewidth": 2
          }
         }
        },
        "title": {
         "text": "Vaccination rates per Capita"
        }
       }
      },
      "image/png": "[encoded data removed]",
      "text/html": [
       "<div>                            <div id=\"8323fa5d-bceb-4d58-932b-368dd54566c0\" class=\"plotly-graph-div\" style=\"height:525px; width:100%;\"></div>            <script type=\"text/javascript\">                require([\"plotly\"], function(Plotly) {                    window.PLOTLYENV=window.PLOTLYENV || {};                                    if (document.getElementById(\"8323fa5d-bceb-4d58-932b-368dd54566c0\")) {                    Plotly.newPlot(                        \"8323fa5d-bceb-4d58-932b-368dd54566c0\",                        [{\"colorbar\":{\"title\":{\"text\":\"Per Capita\"}},\"colorscale\":[[0.0,\"rgb(247,251,255)\"],[0.125,\"rgb(222,235,247)\"],[0.25,\"rgb(198,219,239)\"],[0.375,\"rgb(158,202,225)\"],[0.5,\"rgb(107,174,214)\"],[0.625,\"rgb(66,146,198)\"],[0.75,\"rgb(33,113,181)\"],[0.875,\"rgb(8,81,156)\"],[1.0,\"rgb(8,48,107)\"]],\"locationmode\":\"USA-states\",\"locations\":[\"AK\",\"AL\",\"AR\",\"AZ\",\"CA\",\"CO\",\"CT\",\"DC\",\"DE\",\"FL\",\"GA\",\"HI\",\"IA\",\"ID\",\"IL\",\"IN\",\"KS\",\"KY\",\"LA\",\"MA\",\"MD\",\"ME\",\"MI\",\"MN\",\"MO\",\"MS\",\"MT\",\"NC\",\"ND\",\"NE\",\"NH\",\"NJ\",\"NM\",\"NV\",\"NY\",\"OH\",\"OK\",\"OR\",\"PA\",\"RI\",\"SC\",\"SD\",\"TN\",\"TX\",\"UT\",\"VA\",\"VT\",\"WA\",\"WI\",\"WV\",\"WY\"],\"type\":\"choropleth\",\"z\":[0.40049338295473846,0.4965337234626191,0.48707757470590796,0.4350445236827187,0.5866017131951425,0.5825509119845502,0.6726151150714955,0.5545379095650729,0.7166702206460012,0.5433784781629234,0.4242171604396146,0.6558266276049995,0.4108312765851466,0.5432630547851723,0.4691434566606163,0.5249056364015108,0.4950931857142122,0.49933809831077147,0.43332275637534395,0.664688354771835,0.6278116424546245,0.6678087447817345,0.5129215661780826,0.5680247013526847,0.41226195620445827,0.46221406384214186,0.46553369172210773,0.529653913804636,0.48174003484097394,0.6025770800168341,0.6412666167625739,0.6091631894314204,0.6205807524480813,0.5046161981951779,0.42699876781796636,0.4920381619532076,0.4525074589597072,0.588260964793881,0.5630516298901672,0.7211228568050136,0.4433475021272355,0.4970477766190181,0.4331356033846612,0.4842618339668944,0.4969135773978047,0.7103475271397793,0.5809126829056489,0.6068503324576285,0.45885475409670734,0.5492646144851702,0.39671284911596216]}],                        {\"geo\":{\"scope\":\"usa\"},\"template\":{\"data\":{\"bar\":[{\"error_x\":{\"color\":\"#2a3f5f\"},\"error_y\":{\"color\":\"#2a3f5f\"},\"marker\":{\"line\":{\"color\":\"#E5ECF6\",\"width\":0.5},\"pattern\":{\"fillmode\":\"overlay\",\"size\":10,\"solidity\":0.2}},\"type\":\"bar\"}],\"barpolar\":[{\"marker\":{\"line\":{\"color\":\"#E5ECF6\",\"width\":0.5},\"pattern\":{\"fillmode\":\"overlay\",\"size\":10,\"solidity\":0.2}},\"type\":\"barpolar\"}],\"carpet\":[{\"aaxis\":{\"endlinecolor\":\"#2a3f5f\",\"gridcolor\":\"white\",\"linecolor\":\"white\",\"minorgridcolor\":\"white\",\"startlinecolor\":\"#2a3f5f\"},\"baxis\":{\"endlinecolor\":\"#2a3f5f\",\"gridcolor\":\"white\",\"linecolor\":\"white\",\"minorgridcolor\":\"white\",\"startlinecolor\":\"#2a3f5f\"},\"type\":\"carpet\"}],\"choropleth\":[{\"colorbar\":{\"outlinewidth\":0,\"ticks\":\"\"},\"type\":\"choropleth\"}],\"contour\":[{\"colorbar\":{\"outlinewidth\":0,\"ticks\":\"\"},\"colorscale\":[[0.0,\"#0d0887\"],[0.1111111111111111,\"#46039f\"],[0.2222222222222222,\"#7201a8\"],[0.3333333333333333,\"#9c179e\"],[0.4444444444444444,\"#bd3786\"],[0.5555555555555556,\"#d8576b\"],[0.6666666666666666,\"#ed7953\"],[0.7777777777777778,\"#fb9f3a\"],[0.8888888888888888,\"#fdca26\"],[1.0,\"#f0f921\"]],\"type\":\"contour\"}],\"contourcarpet\":[{\"colorbar\":{\"outlinewidth\":0,\"ticks\":\"\"},\"type\":\"contourcarpet\"}],\"heatmap\":[{\"colorbar\":{\"outlinewidth\":0,\"ticks\":\"\"},\"colorscale\":[[0.0,\"#0d0887\"],[0.1111111111111111,\"#46039f\"],[0.2222222222222222,\"#7201a8\"],[0.3333333333333333,\"#9c179e\"],[0.4444444444444444,\"#bd3786\"],[0.5555555555555556,\"#d8576b\"],[0.6666666666666666,\"#ed7953\"],[0.7777777777777778,\"#fb9f3a\"],[0.8888888888888888,\"#fdca26\"],[1.0,\"#f0f921\"]],\"type\":\"heatmap\"}],\"heatmapgl\":[{\"colorbar\":{\"outlinewidth\":0,\"ticks\":\"\"},\"colorscale\":[[0.0,\"#0d0887\"],[0.1111111111111111,\"#46039f\"],[0.2222222222222222,\"#7201a8\"],[0.3333333333333333,\"#9c179e\"],[0.4444444444444444,\"#bd3786\"],[0.5555555555555556,\"#d8576b\"],[0.6666666666666666,\"#ed7953\"],[0.7777777777777778,\"#fb9f3a\"],[0.8888888888888888,\"#fdca26\"],[1.0,\"#f0f921\"]],\"type\":\"heatmapgl\"}],\"histogram\":[{\"marker\":{\"pattern\":{\"fillmode\":\"overlay\",\"size\":10,\"solidity\":0.2}},\"type\":\"histogram\"}],\"histogram2d\":[{\"colorbar\":{\"outlinewidth\":0,\"ticks\":\"\"},\"colorscale\":[[0.0,\"#0d0887\"],[0.1111111111111111,\"#46039f\"],[0.2222222222222222,\"#7201a8\"],[0.3333333333333333,\"#9c179e\"],[0.4444444444444444,\"#bd3786\"],[0.5555555555555556,\"#d8576b\"],[0.6666666666666666,\"#ed7953\"],[0.7777777777777778,\"#fb9f3a\"],[0.8888888888888888,\"#fdca26\"],[1.0,\"#f0f921\"]],\"type\":\"histogram2d\"}],\"histogram2dcontour\":[{\"colorbar\":{\"outlinewidth\":0,\"ticks\":\"\"},\"colorscale\":[[0.0,\"#0d0887\"],[0.1111111111111111,\"#46039f\"],[0.2222222222222222,\"#7201a8\"],[0.3333333333333333,\"#9c179e\"],[0.4444444444444444,\"#bd3786\"],[0.5555555555555556,\"#d8576b\"],[0.6666666666666666,\"#ed7953\"],[0.7777777777777778,\"#fb9f3a\"],[0.8888888888888888,\"#fdca26\"],[1.0,\"#f0f921\"]],\"type\":\"histogram2dcontour\"}],\"mesh3d\":[{\"colorbar\":{\"outlinewidth\":0,\"ticks\":\"\"},\"type\":\"mesh3d\"}],\"parcoords\":[{\"line\":{\"colorbar\":{\"outlinewidth\":0,\"ticks\":\"\"}},\"type\":\"parcoords\"}],\"pie\":[{\"automargin\":true,\"type\":\"pie\"}],\"scatter\":[{\"marker\":{\"colorbar\":{\"outlinewidth\":0,\"ticks\":\"\"}},\"type\":\"scatter\"}],\"scatter3d\":[{\"line\":{\"colorbar\":{\"outlinewidth\":0,\"ticks\":\"\"}},\"marker\":{\"colorbar\":{\"outlinewidth\":0,\"ticks\":\"\"}},\"type\":\"scatter3d\"}],\"scattercarpet\":[{\"marker\":{\"colorbar\":{\"outlinewidth\":0,\"ticks\":\"\"}},\"type\":\"scattercarpet\"}],\"scattergeo\":[{\"marker\":{\"colorbar\":{\"outlinewidth\":0,\"ticks\":\"\"}},\"type\":\"scattergeo\"}],\"scattergl\":[{\"marker\":{\"colorbar\":{\"outlinewidth\":0,\"ticks\":\"\"}},\"type\":\"scattergl\"}],\"scattermapbox\":[{\"marker\":{\"colorbar\":{\"outlinewidth\":0,\"ticks\":\"\"}},\"type\":\"scattermapbox\"}],\"scatterpolar\":[{\"marker\":{\"colorbar\":{\"outlinewidth\":0,\"ticks\":\"\"}},\"type\":\"scatterpolar\"}],\"scatterpolargl\":[{\"marker\":{\"colorbar\":{\"outlinewidth\":0,\"ticks\":\"\"}},\"type\":\"scatterpolargl\"}],\"scatterternary\":[{\"marker\":{\"colorbar\":{\"outlinewidth\":0,\"ticks\":\"\"}},\"type\":\"scatterternary\"}],\"surface\":[{\"colorbar\":{\"outlinewidth\":0,\"ticks\":\"\"},\"colorscale\":[[0.0,\"#0d0887\"],[0.1111111111111111,\"#46039f\"],[0.2222222222222222,\"#7201a8\"],[0.3333333333333333,\"#9c179e\"],[0.4444444444444444,\"#bd3786\"],[0.5555555555555556,\"#d8576b\"],[0.6666666666666666,\"#ed7953\"],[0.7777777777777778,\"#fb9f3a\"],[0.8888888888888888,\"#fdca26\"],[1.0,\"#f0f921\"]],\"type\":\"surface\"}],\"table\":[{\"cells\":{\"fill\":{\"color\":\"#EBF0F8\"},\"line\":{\"color\":\"white\"}},\"header\":{\"fill\":{\"color\":\"#C8D4E3\"},\"line\":{\"color\":\"white\"}},\"type\":\"table\"}]},\"layout\":{\"annotationdefaults\":{\"arrowcolor\":\"#2a3f5f\",\"arrowhead\":0,\"arrowwidth\":1},\"autotypenumbers\":\"strict\",\"coloraxis\":{\"colorbar\":{\"outlinewidth\":0,\"ticks\":\"\"}},\"colorscale\":{\"diverging\":[[0,\"#8e0152\"],[0.1,\"#c51b7d\"],[0.2,\"#de77ae\"],[0.3,\"#f1b6da\"],[0.4,\"#fde0ef\"],[0.5,\"#f7f7f7\"],[0.6,\"#e6f5d0\"],[0.7,\"#b8e186\"],[0.8,\"#7fbc41\"],[0.9,\"#4d9221\"],[1,\"#276419\"]],\"sequential\":[[0.0,\"#0d0887\"],[0.1111111111111111,\"#46039f\"],[0.2222222222222222,\"#7201a8\"],[0.3333333333333333,\"#9c179e\"],[0.4444444444444444,\"#bd3786\"],[0.5555555555555556,\"#d8576b\"],[0.6666666666666666,\"#ed7953\"],[0.7777777777777778,\"#fb9f3a\"],[0.8888888888888888,\"#fdca26\"],[1.0,\"#f0f921\"]],\"sequentialminus\":[[0.0,\"#0d0887\"],[0.1111111111111111,\"#46039f\"],[0.2222222222222222,\"#7201a8\"],[0.3333333333333333,\"#9c179e\"],[0.4444444444444444,\"#bd3786\"],[0.5555555555555556,\"#d8576b\"],[0.6666666666666666,\"#ed7953\"],[0.7777777777777778,\"#fb9f3a\"],[0.8888888888888888,\"#fdca26\"],[1.0,\"#f0f921\"]]},\"colorway\":[\"#636efa\",\"#EF553B\",\"#00cc96\",\"#ab63fa\",\"#FFA15A\",\"#19d3f3\",\"#FF6692\",\"#B6E880\",\"#FF97FF\",\"#FECB52\"],\"font\":{\"color\":\"#2a3f5f\"},\"geo\":{\"bgcolor\":\"white\",\"lakecolor\":\"white\",\"landcolor\":\"#E5ECF6\",\"showlakes\":true,\"showland\":true,\"subunitcolor\":\"white\"},\"hoverlabel\":{\"align\":\"left\"},\"hovermode\":\"closest\",\"mapbox\":{\"style\":\"light\"},\"paper_bgcolor\":\"white\",\"plot_bgcolor\":\"#E5ECF6\",\"polar\":{\"angularaxis\":{\"gridcolor\":\"white\",\"linecolor\":\"white\",\"ticks\":\"\"},\"bgcolor\":\"#E5ECF6\",\"radialaxis\":{\"gridcolor\":\"white\",\"linecolor\":\"white\",\"ticks\":\"\"}},\"scene\":{\"xaxis\":{\"backgroundcolor\":\"#E5ECF6\",\"gridcolor\":\"white\",\"gridwidth\":2,\"linecolor\":\"white\",\"showbackground\":true,\"ticks\":\"\",\"zerolinecolor\":\"white\"},\"yaxis\":{\"backgroundcolor\":\"#E5ECF6\",\"gridcolor\":\"white\",\"gridwidth\":2,\"linecolor\":\"white\",\"showbackground\":true,\"ticks\":\"\",\"zerolinecolor\":\"white\"},\"zaxis\":{\"backgroundcolor\":\"#E5ECF6\",\"gridcolor\":\"white\",\"gridwidth\":2,\"linecolor\":\"white\",\"showbackground\":true,\"ticks\":\"\",\"zerolinecolor\":\"white\"}},\"shapedefaults\":{\"line\":{\"color\":\"#2a3f5f\"}},\"ternary\":{\"aaxis\":{\"gridcolor\":\"white\",\"linecolor\":\"white\",\"ticks\":\"\"},\"baxis\":{\"gridcolor\":\"white\",\"linecolor\":\"white\",\"ticks\":\"\"},\"bgcolor\":\"#E5ECF6\",\"caxis\":{\"gridcolor\":\"white\",\"linecolor\":\"white\",\"ticks\":\"\"}},\"title\":{\"x\":0.05},\"xaxis\":{\"automargin\":true,\"gridcolor\":\"white\",\"linecolor\":\"white\",\"ticks\":\"\",\"title\":{\"standoff\":15},\"zerolinecolor\":\"white\",\"zerolinewidth\":2},\"yaxis\":{\"automargin\":true,\"gridcolor\":\"white\",\"linecolor\":\"white\",\"ticks\":\"\",\"title\":{\"standoff\":15},\"zerolinecolor\":\"white\",\"zerolinewidth\":2}}},\"title\":{\"text\":\"Vaccination rates per Capita\"}},                        {\"responsive\": true}                    ).then(function(){\n",
       "                            \n",
       "var gd = document.getElementById('8323fa5d-bceb-4d58-932b-368dd54566c0');\n",
       "var x = new MutationObserver(function (mutations, observer) {{\n",
       "        var display = window.getComputedStyle(gd).display;\n",
       "        if (!display || display === 'none') {{\n",
       "            console.log([gd, 'removed!']);\n",
       "            Plotly.purge(gd);\n",
       "            observer.disconnect();\n",
       "        }}\n",
       "}});\n",
       "\n",
       "// Listen for the removal of the full notebook cells\n",
       "var notebookContainer = gd.closest('#notebook-container');\n",
       "if (notebookContainer) {{\n",
       "    x.observe(notebookContainer, {childList: true});\n",
       "}}\n",
       "\n",
       "// Listen for the clearing of the current output cell\n",
       "var outputEl = gd.closest('.output');\n",
       "if (outputEl) {{\n",
       "    x.observe(outputEl, {childList: true});\n",
       "}}\n",
       "\n",
       "                        })                };                });            </script>        </div>"
      ]
     },
     "metadata": {},
     "output_type": "display_data"
    }
   ],
   "source": [
    "states = [ 'AK', 'AL', 'AR', 'AZ', 'CA', 'CO', 'CT', 'DC', 'DE', 'FL', 'GA',\n",
    "           'HI', 'IA', 'ID', 'IL', 'IN', 'KS', 'KY', 'LA', 'MA', 'MD', 'ME',\n",
    "           'MI', 'MN', 'MO', 'MS', 'MT', 'NC', 'ND', 'NE', 'NH', 'NJ', 'NM',\n",
    "           'NV', 'NY', 'OH', 'OK', 'OR', 'PA', 'RI', 'SC', 'SD', 'TN', 'TX',\n",
    "           'UT', 'VA', 'VT', 'WA', 'WI', 'WV', 'WY']\n",
    "dvdf['code'] = states\n",
    "\n",
    "fig = go.Figure(data=go.Choropleth(\n",
    "    locations=dvdf['code'],\n",
    "    z = dvdf['People_Fully_Vaccinated'], \n",
    "    locationmode = 'USA-states', \n",
    "    colorscale = 'Blues',\n",
    "    colorbar_title = \"Per Capita\",\n",
    "))\n",
    "\n",
    "fig.update_layout(\n",
    "    title_text = 'Vaccination rates per Capita',\n",
    "    geo_scope='usa', \n",
    ")\n",
    "\n",
    "fig.show()"
   ]
  },
  {
   "cell_type": "code",
   "execution_count": null,
   "id": "4004f3c5-51c1-4335-93de-852a4ccdbb2f",
   "metadata": {},
   "outputs": [
    {
     "data": {
      "application/vnd.plotly.v1+json": {
       "config": {
        "plotlyServerURL": "https://plot.ly"
       },
       "data": [
        {
         "colorbar": {
          "title": {
           "text": "Deaths"
          }
         },
         "colorscale": [
          [
           0,
           "rgb(255,245,240)"
          ],
          [
           0.125,
           "rgb(254,224,210)"
          ],
          [
           0.25,
           "rgb(252,187,161)"
          ],
          [
           0.375,
           "rgb(252,146,114)"
          ],
          [
           0.5,
           "rgb(251,106,74)"
          ],
          [
           0.625,
           "rgb(239,59,44)"
          ],
          [
           0.75,
           "rgb(203,24,29)"
          ],
          [
           0.875,
           "rgb(165,15,21)"
          ],
          [
           1,
           "rgb(103,0,13)"
          ]
         ],
         "locationmode": "USA-states",
         "locations": [
          "AK",
          "AL",
          "AR",
          "AZ",
          "CA",
          "CO",
          "CT",
          "DC",
          "DE",
          "FL",
          "GA",
          "HI",
          "IA",
          "ID",
          "IL",
          "IN",
          "KS",
          "KY",
          "LA",
          "MA",
          "MD",
          "ME",
          "MI",
          "MN",
          "MO",
          "MS",
          "MT",
          "NC",
          "ND",
          "NE",
          "NH",
          "NJ",
          "NM",
          "NV",
          "NY",
          "OH",
          "OK",
          "OR",
          "PA",
          "RI",
          "SC",
          "SD",
          "TN",
          "TX",
          "UT",
          "VA",
          "VT",
          "WA",
          "WI",
          "WV",
          "WY"
         ],
         "type": "choropleth",
         "z": [
          0.0032922675297041653,
          0.0012274664317024377,
          0.0030693665522183748,
          0.0029024702674984707,
          0.0019071289180030582,
          0.001634893148239438,
          0.002515036522288689,
          0.00223548832651506,
          0.0016792552355727145,
          0.0028430549379680372,
          0.0028716107546794744,
          0.0007384474550925867,
          0.0021900331323932774,
          0.002315386735920391,
          0.002651239764362535,
          0.0023533606590800684,
          0.0023241088542301216,
          0.0025502255736834945,
          0.003199135129177378,
          0.0010043395467584496,
          0.0018585482154139122,
          0.0028401813050820952,
          0.002673742331226788,
          0.0017495848757243242,
          0.0034758152424879986,
          0.002545700691923399,
          0.0025736250170048038,
          0.001667568147848419,
          0.002595388079823877,
          0.0012940293864705129,
          0.00321062923401871,
          0.002585078518496011,
          0.002996052702891113,
          0.001785050085262248,
          0.0025845769486573396,
          0.002309971669900593,
          0.0030293035314911663,
          0.0012537996518690172,
          0.002675218688449748,
          0.002789641716920894,
          0.00274700845528206,
          0.002670499161548397,
          0.0025654749337649203,
          0.0025329726659995403,
          0.0011145030322667398,
          0.0006818032331911439,
          0.0017272441864403998,
          0.0012344006950181527,
          0.0028216252135408876,
          0.001759061696603005,
          0.0025277850283688917
         ]
        }
       ],
       "layout": {
        "autosize": true,
        "geo": {
         "scope": "usa"
        },
        "template": {
         "data": {
          "bar": [
           {
            "error_x": {
             "color": "#2a3f5f"
            },
            "error_y": {
             "color": "#2a3f5f"
            },
            "marker": {
             "line": {
              "color": "#E5ECF6",
              "width": 0.5
             },
             "pattern": {
              "fillmode": "overlay",
              "size": 10,
              "solidity": 0.2
             }
            },
            "type": "bar"
           }
          ],
          "barpolar": [
           {
            "marker": {
             "line": {
              "color": "#E5ECF6",
              "width": 0.5
             },
             "pattern": {
              "fillmode": "overlay",
              "size": 10,
              "solidity": 0.2
             }
            },
            "type": "barpolar"
           }
          ],
          "carpet": [
           {
            "aaxis": {
             "endlinecolor": "#2a3f5f",
             "gridcolor": "white",
             "linecolor": "white",
             "minorgridcolor": "white",
             "startlinecolor": "#2a3f5f"
            },
            "baxis": {
             "endlinecolor": "#2a3f5f",
             "gridcolor": "white",
             "linecolor": "white",
             "minorgridcolor": "white",
             "startlinecolor": "#2a3f5f"
            },
            "type": "carpet"
           }
          ],
          "choropleth": [
           {
            "colorbar": {
             "outlinewidth": 0,
             "ticks": ""
            },
            "type": "choropleth"
           }
          ],
          "contour": [
           {
            "colorbar": {
             "outlinewidth": 0,
             "ticks": ""
            },
            "colorscale": [
             [
              0,
              "#0d0887"
             ],
             [
              0.1111111111111111,
              "#46039f"
             ],
             [
              0.2222222222222222,
              "#7201a8"
             ],
             [
              0.3333333333333333,
              "#9c179e"
             ],
             [
              0.4444444444444444,
              "#bd3786"
             ],
             [
              0.5555555555555556,
              "#d8576b"
             ],
             [
              0.6666666666666666,
              "#ed7953"
             ],
             [
              0.7777777777777778,
              "#fb9f3a"
             ],
             [
              0.8888888888888888,
              "#fdca26"
             ],
             [
              1,
              "#f0f921"
             ]
            ],
            "type": "contour"
           }
          ],
          "contourcarpet": [
           {
            "colorbar": {
             "outlinewidth": 0,
             "ticks": ""
            },
            "type": "contourcarpet"
           }
          ],
          "heatmap": [
           {
            "colorbar": {
             "outlinewidth": 0,
             "ticks": ""
            },
            "colorscale": [
             [
              0,
              "#0d0887"
             ],
             [
              0.1111111111111111,
              "#46039f"
             ],
             [
              0.2222222222222222,
              "#7201a8"
             ],
             [
              0.3333333333333333,
              "#9c179e"
             ],
             [
              0.4444444444444444,
              "#bd3786"
             ],
             [
              0.5555555555555556,
              "#d8576b"
             ],
             [
              0.6666666666666666,
              "#ed7953"
             ],
             [
              0.7777777777777778,
              "#fb9f3a"
             ],
             [
              0.8888888888888888,
              "#fdca26"
             ],
             [
              1,
              "#f0f921"
             ]
            ],
            "type": "heatmap"
           }
          ],
          "heatmapgl": [
           {
            "colorbar": {
             "outlinewidth": 0,
             "ticks": ""
            },
            "colorscale": [
             [
              0,
              "#0d0887"
             ],
             [
              0.1111111111111111,
              "#46039f"
             ],
             [
              0.2222222222222222,
              "#7201a8"
             ],
             [
              0.3333333333333333,
              "#9c179e"
             ],
             [
              0.4444444444444444,
              "#bd3786"
             ],
             [
              0.5555555555555556,
              "#d8576b"
             ],
             [
              0.6666666666666666,
              "#ed7953"
             ],
             [
              0.7777777777777778,
              "#fb9f3a"
             ],
             [
              0.8888888888888888,
              "#fdca26"
             ],
             [
              1,
              "#f0f921"
             ]
            ],
            "type": "heatmapgl"
           }
          ],
          "histogram": [
           {
            "marker": {
             "pattern": {
              "fillmode": "overlay",
              "size": 10,
              "solidity": 0.2
             }
            },
            "type": "histogram"
           }
          ],
          "histogram2d": [
           {
            "colorbar": {
             "outlinewidth": 0,
             "ticks": ""
            },
            "colorscale": [
             [
              0,
              "#0d0887"
             ],
             [
              0.1111111111111111,
              "#46039f"
             ],
             [
              0.2222222222222222,
              "#7201a8"
             ],
             [
              0.3333333333333333,
              "#9c179e"
             ],
             [
              0.4444444444444444,
              "#bd3786"
             ],
             [
              0.5555555555555556,
              "#d8576b"
             ],
             [
              0.6666666666666666,
              "#ed7953"
             ],
             [
              0.7777777777777778,
              "#fb9f3a"
             ],
             [
              0.8888888888888888,
              "#fdca26"
             ],
             [
              1,
              "#f0f921"
             ]
            ],
            "type": "histogram2d"
           }
          ],
          "histogram2dcontour": [
           {
            "colorbar": {
             "outlinewidth": 0,
             "ticks": ""
            },
            "colorscale": [
             [
              0,
              "#0d0887"
             ],
             [
              0.1111111111111111,
              "#46039f"
             ],
             [
              0.2222222222222222,
              "#7201a8"
             ],
             [
              0.3333333333333333,
              "#9c179e"
             ],
             [
              0.4444444444444444,
              "#bd3786"
             ],
             [
              0.5555555555555556,
              "#d8576b"
             ],
             [
              0.6666666666666666,
              "#ed7953"
             ],
             [
              0.7777777777777778,
              "#fb9f3a"
             ],
             [
              0.8888888888888888,
              "#fdca26"
             ],
             [
              1,
              "#f0f921"
             ]
            ],
            "type": "histogram2dcontour"
           }
          ],
          "mesh3d": [
           {
            "colorbar": {
             "outlinewidth": 0,
             "ticks": ""
            },
            "type": "mesh3d"
           }
          ],
          "parcoords": [
           {
            "line": {
             "colorbar": {
              "outlinewidth": 0,
              "ticks": ""
             }
            },
            "type": "parcoords"
           }
          ],
          "pie": [
           {
            "automargin": true,
            "type": "pie"
           }
          ],
          "scatter": [
           {
            "marker": {
             "colorbar": {
              "outlinewidth": 0,
              "ticks": ""
             }
            },
            "type": "scatter"
           }
          ],
          "scatter3d": [
           {
            "line": {
             "colorbar": {
              "outlinewidth": 0,
              "ticks": ""
             }
            },
            "marker": {
             "colorbar": {
              "outlinewidth": 0,
              "ticks": ""
             }
            },
            "type": "scatter3d"
           }
          ],
          "scattercarpet": [
           {
            "marker": {
             "colorbar": {
              "outlinewidth": 0,
              "ticks": ""
             }
            },
            "type": "scattercarpet"
           }
          ],
          "scattergeo": [
           {
            "marker": {
             "colorbar": {
              "outlinewidth": 0,
              "ticks": ""
             }
            },
            "type": "scattergeo"
           }
          ],
          "scattergl": [
           {
            "marker": {
             "colorbar": {
              "outlinewidth": 0,
              "ticks": ""
             }
            },
            "type": "scattergl"
           }
          ],
          "scattermapbox": [
           {
            "marker": {
             "colorbar": {
              "outlinewidth": 0,
              "ticks": ""
             }
            },
            "type": "scattermapbox"
           }
          ],
          "scatterpolar": [
           {
            "marker": {
             "colorbar": {
              "outlinewidth": 0,
              "ticks": ""
             }
            },
            "type": "scatterpolar"
           }
          ],
          "scatterpolargl": [
           {
            "marker": {
             "colorbar": {
              "outlinewidth": 0,
              "ticks": ""
             }
            },
            "type": "scatterpolargl"
           }
          ],
          "scatterternary": [
           {
            "marker": {
             "colorbar": {
              "outlinewidth": 0,
              "ticks": ""
             }
            },
            "type": "scatterternary"
           }
          ],
          "surface": [
           {
            "colorbar": {
             "outlinewidth": 0,
             "ticks": ""
            },
            "colorscale": [
             [
              0,
              "#0d0887"
             ],
             [
              0.1111111111111111,
              "#46039f"
             ],
             [
              0.2222222222222222,
              "#7201a8"
             ],
             [
              0.3333333333333333,
              "#9c179e"
             ],
             [
              0.4444444444444444,
              "#bd3786"
             ],
             [
              0.5555555555555556,
              "#d8576b"
             ],
             [
              0.6666666666666666,
              "#ed7953"
             ],
             [
              0.7777777777777778,
              "#fb9f3a"
             ],
             [
              0.8888888888888888,
              "#fdca26"
             ],
             [
              1,
              "#f0f921"
             ]
            ],
            "type": "surface"
           }
          ],
          "table": [
           {
            "cells": {
             "fill": {
              "color": "#EBF0F8"
             },
             "line": {
              "color": "white"
             }
            },
            "header": {
             "fill": {
              "color": "#C8D4E3"
             },
             "line": {
              "color": "white"
             }
            },
            "type": "table"
           }
          ]
         },
         "layout": {
          "annotationdefaults": {
           "arrowcolor": "#2a3f5f",
           "arrowhead": 0,
           "arrowwidth": 1
          },
          "autotypenumbers": "strict",
          "coloraxis": {
           "colorbar": {
            "outlinewidth": 0,
            "ticks": ""
           }
          },
          "colorscale": {
           "diverging": [
            [
             0,
             "#8e0152"
            ],
            [
             0.1,
             "#c51b7d"
            ],
            [
             0.2,
             "#de77ae"
            ],
            [
             0.3,
             "#f1b6da"
            ],
            [
             0.4,
             "#fde0ef"
            ],
            [
             0.5,
             "#f7f7f7"
            ],
            [
             0.6,
             "#e6f5d0"
            ],
            [
             0.7,
             "#b8e186"
            ],
            [
             0.8,
             "#7fbc41"
            ],
            [
             0.9,
             "#4d9221"
            ],
            [
             1,
             "#276419"
            ]
           ],
           "sequential": [
            [
             0,
             "#0d0887"
            ],
            [
             0.1111111111111111,
             "#46039f"
            ],
            [
             0.2222222222222222,
             "#7201a8"
            ],
            [
             0.3333333333333333,
             "#9c179e"
            ],
            [
             0.4444444444444444,
             "#bd3786"
            ],
            [
             0.5555555555555556,
             "#d8576b"
            ],
            [
             0.6666666666666666,
             "#ed7953"
            ],
            [
             0.7777777777777778,
             "#fb9f3a"
            ],
            [
             0.8888888888888888,
             "#fdca26"
            ],
            [
             1,
             "#f0f921"
            ]
           ],
           "sequentialminus": [
            [
             0,
             "#0d0887"
            ],
            [
             0.1111111111111111,
             "#46039f"
            ],
            [
             0.2222222222222222,
             "#7201a8"
            ],
            [
             0.3333333333333333,
             "#9c179e"
            ],
            [
             0.4444444444444444,
             "#bd3786"
            ],
            [
             0.5555555555555556,
             "#d8576b"
            ],
            [
             0.6666666666666666,
             "#ed7953"
            ],
            [
             0.7777777777777778,
             "#fb9f3a"
            ],
            [
             0.8888888888888888,
             "#fdca26"
            ],
            [
             1,
             "#f0f921"
            ]
           ]
          },
          "colorway": [
           "#636efa",
           "#EF553B",
           "#00cc96",
           "#ab63fa",
           "#FFA15A",
           "#19d3f3",
           "#FF6692",
           "#B6E880",
           "#FF97FF",
           "#FECB52"
          ],
          "font": {
           "color": "#2a3f5f"
          },
          "geo": {
           "bgcolor": "white",
           "lakecolor": "white",
           "landcolor": "#E5ECF6",
           "showlakes": true,
           "showland": true,
           "subunitcolor": "white"
          },
          "hoverlabel": {
           "align": "left"
          },
          "hovermode": "closest",
          "mapbox": {
           "style": "light"
          },
          "paper_bgcolor": "white",
          "plot_bgcolor": "#E5ECF6",
          "polar": {
           "angularaxis": {
            "gridcolor": "white",
            "linecolor": "white",
            "ticks": ""
           },
           "bgcolor": "#E5ECF6",
           "radialaxis": {
            "gridcolor": "white",
            "linecolor": "white",
            "ticks": ""
           }
          },
          "scene": {
           "xaxis": {
            "backgroundcolor": "#E5ECF6",
            "gridcolor": "white",
            "gridwidth": 2,
            "linecolor": "white",
            "showbackground": true,
            "ticks": "",
            "zerolinecolor": "white"
           },
           "yaxis": {
            "backgroundcolor": "#E5ECF6",
            "gridcolor": "white",
            "gridwidth": 2,
            "linecolor": "white",
            "showbackground": true,
            "ticks": "",
            "zerolinecolor": "white"
           },
           "zaxis": {
            "backgroundcolor": "#E5ECF6",
            "gridcolor": "white",
            "gridwidth": 2,
            "linecolor": "white",
            "showbackground": true,
            "ticks": "",
            "zerolinecolor": "white"
           }
          },
          "shapedefaults": {
           "line": {
            "color": "#2a3f5f"
           }
          },
          "ternary": {
           "aaxis": {
            "gridcolor": "white",
            "linecolor": "white",
            "ticks": ""
           },
           "baxis": {
            "gridcolor": "white",
            "linecolor": "white",
            "ticks": ""
           },
           "bgcolor": "#E5ECF6",
           "caxis": {
            "gridcolor": "white",
            "linecolor": "white",
            "ticks": ""
           }
          },
          "title": {
           "x": 0.05
          },
          "xaxis": {
           "automargin": true,
           "gridcolor": "white",
           "linecolor": "white",
           "ticks": "",
           "title": {
            "standoff": 15
           },
           "zerolinecolor": "white",
           "zerolinewidth": 2
          },
          "yaxis": {
           "automargin": true,
           "gridcolor": "white",
           "linecolor": "white",
           "ticks": "",
           "title": {
            "standoff": 15
           },
           "zerolinecolor": "white",
           "zerolinewidth": 2
          }
         }
        },
        "title": {
         "text": "Deaths per capita"
        }
       }
      },
      "image/png": "[encoded data removed]",
      "text/html": [
       "<div>                            <div id=\"8987d7dc-3392-4e06-9a13-097ababe9a48\" class=\"plotly-graph-div\" style=\"height:525px; width:100%;\"></div>            <script type=\"text/javascript\">                require([\"plotly\"], function(Plotly) {                    window.PLOTLYENV=window.PLOTLYENV || {};                                    if (document.getElementById(\"8987d7dc-3392-4e06-9a13-097ababe9a48\")) {                    Plotly.newPlot(                        \"8987d7dc-3392-4e06-9a13-097ababe9a48\",                        [{\"colorbar\":{\"title\":{\"text\":\"Deaths\"}},\"colorscale\":[[0.0,\"rgb(255,245,240)\"],[0.125,\"rgb(254,224,210)\"],[0.25,\"rgb(252,187,161)\"],[0.375,\"rgb(252,146,114)\"],[0.5,\"rgb(251,106,74)\"],[0.625,\"rgb(239,59,44)\"],[0.75,\"rgb(203,24,29)\"],[0.875,\"rgb(165,15,21)\"],[1.0,\"rgb(103,0,13)\"]],\"locationmode\":\"USA-states\",\"locations\":[\"AK\",\"AL\",\"AR\",\"AZ\",\"CA\",\"CO\",\"CT\",\"DC\",\"DE\",\"FL\",\"GA\",\"HI\",\"IA\",\"ID\",\"IL\",\"IN\",\"KS\",\"KY\",\"LA\",\"MA\",\"MD\",\"ME\",\"MI\",\"MN\",\"MO\",\"MS\",\"MT\",\"NC\",\"ND\",\"NE\",\"NH\",\"NJ\",\"NM\",\"NV\",\"NY\",\"OH\",\"OK\",\"OR\",\"PA\",\"RI\",\"SC\",\"SD\",\"TN\",\"TX\",\"UT\",\"VA\",\"VT\",\"WA\",\"WI\",\"WV\",\"WY\"],\"type\":\"choropleth\",\"z\":[0.0032922675297041653,0.0012274664317024377,0.0030693665522183748,0.0029024702674984707,0.0019071289180030582,0.001634893148239438,0.002515036522288689,0.00223548832651506,0.0016792552355727145,0.0028430549379680372,0.0028716107546794744,0.0007384474550925867,0.0021900331323932774,0.002315386735920391,0.002651239764362535,0.0023533606590800684,0.0023241088542301216,0.0025502255736834945,0.003199135129177378,0.0010043395467584496,0.0018585482154139122,0.0028401813050820952,0.002673742331226788,0.0017495848757243242,0.0034758152424879986,0.002545700691923399,0.0025736250170048038,0.001667568147848419,0.002595388079823877,0.0012940293864705129,0.00321062923401871,0.002585078518496011,0.002996052702891113,0.001785050085262248,0.0025845769486573396,0.002309971669900593,0.0030293035314911663,0.0012537996518690172,0.002675218688449748,0.002789641716920894,0.00274700845528206,0.002670499161548397,0.0025654749337649203,0.0025329726659995403,0.0011145030322667398,0.0006818032331911439,0.0017272441864403998,0.0012344006950181527,0.0028216252135408876,0.001759061696603005,0.0025277850283688917]}],                        {\"geo\":{\"scope\":\"usa\"},\"template\":{\"data\":{\"bar\":[{\"error_x\":{\"color\":\"#2a3f5f\"},\"error_y\":{\"color\":\"#2a3f5f\"},\"marker\":{\"line\":{\"color\":\"#E5ECF6\",\"width\":0.5},\"pattern\":{\"fillmode\":\"overlay\",\"size\":10,\"solidity\":0.2}},\"type\":\"bar\"}],\"barpolar\":[{\"marker\":{\"line\":{\"color\":\"#E5ECF6\",\"width\":0.5},\"pattern\":{\"fillmode\":\"overlay\",\"size\":10,\"solidity\":0.2}},\"type\":\"barpolar\"}],\"carpet\":[{\"aaxis\":{\"endlinecolor\":\"#2a3f5f\",\"gridcolor\":\"white\",\"linecolor\":\"white\",\"minorgridcolor\":\"white\",\"startlinecolor\":\"#2a3f5f\"},\"baxis\":{\"endlinecolor\":\"#2a3f5f\",\"gridcolor\":\"white\",\"linecolor\":\"white\",\"minorgridcolor\":\"white\",\"startlinecolor\":\"#2a3f5f\"},\"type\":\"carpet\"}],\"choropleth\":[{\"colorbar\":{\"outlinewidth\":0,\"ticks\":\"\"},\"type\":\"choropleth\"}],\"contour\":[{\"colorbar\":{\"outlinewidth\":0,\"ticks\":\"\"},\"colorscale\":[[0.0,\"#0d0887\"],[0.1111111111111111,\"#46039f\"],[0.2222222222222222,\"#7201a8\"],[0.3333333333333333,\"#9c179e\"],[0.4444444444444444,\"#bd3786\"],[0.5555555555555556,\"#d8576b\"],[0.6666666666666666,\"#ed7953\"],[0.7777777777777778,\"#fb9f3a\"],[0.8888888888888888,\"#fdca26\"],[1.0,\"#f0f921\"]],\"type\":\"contour\"}],\"contourcarpet\":[{\"colorbar\":{\"outlinewidth\":0,\"ticks\":\"\"},\"type\":\"contourcarpet\"}],\"heatmap\":[{\"colorbar\":{\"outlinewidth\":0,\"ticks\":\"\"},\"colorscale\":[[0.0,\"#0d0887\"],[0.1111111111111111,\"#46039f\"],[0.2222222222222222,\"#7201a8\"],[0.3333333333333333,\"#9c179e\"],[0.4444444444444444,\"#bd3786\"],[0.5555555555555556,\"#d8576b\"],[0.6666666666666666,\"#ed7953\"],[0.7777777777777778,\"#fb9f3a\"],[0.8888888888888888,\"#fdca26\"],[1.0,\"#f0f921\"]],\"type\":\"heatmap\"}],\"heatmapgl\":[{\"colorbar\":{\"outlinewidth\":0,\"ticks\":\"\"},\"colorscale\":[[0.0,\"#0d0887\"],[0.1111111111111111,\"#46039f\"],[0.2222222222222222,\"#7201a8\"],[0.3333333333333333,\"#9c179e\"],[0.4444444444444444,\"#bd3786\"],[0.5555555555555556,\"#d8576b\"],[0.6666666666666666,\"#ed7953\"],[0.7777777777777778,\"#fb9f3a\"],[0.8888888888888888,\"#fdca26\"],[1.0,\"#f0f921\"]],\"type\":\"heatmapgl\"}],\"histogram\":[{\"marker\":{\"pattern\":{\"fillmode\":\"overlay\",\"size\":10,\"solidity\":0.2}},\"type\":\"histogram\"}],\"histogram2d\":[{\"colorbar\":{\"outlinewidth\":0,\"ticks\":\"\"},\"colorscale\":[[0.0,\"#0d0887\"],[0.1111111111111111,\"#46039f\"],[0.2222222222222222,\"#7201a8\"],[0.3333333333333333,\"#9c179e\"],[0.4444444444444444,\"#bd3786\"],[0.5555555555555556,\"#d8576b\"],[0.6666666666666666,\"#ed7953\"],[0.7777777777777778,\"#fb9f3a\"],[0.8888888888888888,\"#fdca26\"],[1.0,\"#f0f921\"]],\"type\":\"histogram2d\"}],\"histogram2dcontour\":[{\"colorbar\":{\"outlinewidth\":0,\"ticks\":\"\"},\"colorscale\":[[0.0,\"#0d0887\"],[0.1111111111111111,\"#46039f\"],[0.2222222222222222,\"#7201a8\"],[0.3333333333333333,\"#9c179e\"],[0.4444444444444444,\"#bd3786\"],[0.5555555555555556,\"#d8576b\"],[0.6666666666666666,\"#ed7953\"],[0.7777777777777778,\"#fb9f3a\"],[0.8888888888888888,\"#fdca26\"],[1.0,\"#f0f921\"]],\"type\":\"histogram2dcontour\"}],\"mesh3d\":[{\"colorbar\":{\"outlinewidth\":0,\"ticks\":\"\"},\"type\":\"mesh3d\"}],\"parcoords\":[{\"line\":{\"colorbar\":{\"outlinewidth\":0,\"ticks\":\"\"}},\"type\":\"parcoords\"}],\"pie\":[{\"automargin\":true,\"type\":\"pie\"}],\"scatter\":[{\"marker\":{\"colorbar\":{\"outlinewidth\":0,\"ticks\":\"\"}},\"type\":\"scatter\"}],\"scatter3d\":[{\"line\":{\"colorbar\":{\"outlinewidth\":0,\"ticks\":\"\"}},\"marker\":{\"colorbar\":{\"outlinewidth\":0,\"ticks\":\"\"}},\"type\":\"scatter3d\"}],\"scattercarpet\":[{\"marker\":{\"colorbar\":{\"outlinewidth\":0,\"ticks\":\"\"}},\"type\":\"scattercarpet\"}],\"scattergeo\":[{\"marker\":{\"colorbar\":{\"outlinewidth\":0,\"ticks\":\"\"}},\"type\":\"scattergeo\"}],\"scattergl\":[{\"marker\":{\"colorbar\":{\"outlinewidth\":0,\"ticks\":\"\"}},\"type\":\"scattergl\"}],\"scattermapbox\":[{\"marker\":{\"colorbar\":{\"outlinewidth\":0,\"ticks\":\"\"}},\"type\":\"scattermapbox\"}],\"scatterpolar\":[{\"marker\":{\"colorbar\":{\"outlinewidth\":0,\"ticks\":\"\"}},\"type\":\"scatterpolar\"}],\"scatterpolargl\":[{\"marker\":{\"colorbar\":{\"outlinewidth\":0,\"ticks\":\"\"}},\"type\":\"scatterpolargl\"}],\"scatterternary\":[{\"marker\":{\"colorbar\":{\"outlinewidth\":0,\"ticks\":\"\"}},\"type\":\"scatterternary\"}],\"surface\":[{\"colorbar\":{\"outlinewidth\":0,\"ticks\":\"\"},\"colorscale\":[[0.0,\"#0d0887\"],[0.1111111111111111,\"#46039f\"],[0.2222222222222222,\"#7201a8\"],[0.3333333333333333,\"#9c179e\"],[0.4444444444444444,\"#bd3786\"],[0.5555555555555556,\"#d8576b\"],[0.6666666666666666,\"#ed7953\"],[0.7777777777777778,\"#fb9f3a\"],[0.8888888888888888,\"#fdca26\"],[1.0,\"#f0f921\"]],\"type\":\"surface\"}],\"table\":[{\"cells\":{\"fill\":{\"color\":\"#EBF0F8\"},\"line\":{\"color\":\"white\"}},\"header\":{\"fill\":{\"color\":\"#C8D4E3\"},\"line\":{\"color\":\"white\"}},\"type\":\"table\"}]},\"layout\":{\"annotationdefaults\":{\"arrowcolor\":\"#2a3f5f\",\"arrowhead\":0,\"arrowwidth\":1},\"autotypenumbers\":\"strict\",\"coloraxis\":{\"colorbar\":{\"outlinewidth\":0,\"ticks\":\"\"}},\"colorscale\":{\"diverging\":[[0,\"#8e0152\"],[0.1,\"#c51b7d\"],[0.2,\"#de77ae\"],[0.3,\"#f1b6da\"],[0.4,\"#fde0ef\"],[0.5,\"#f7f7f7\"],[0.6,\"#e6f5d0\"],[0.7,\"#b8e186\"],[0.8,\"#7fbc41\"],[0.9,\"#4d9221\"],[1,\"#276419\"]],\"sequential\":[[0.0,\"#0d0887\"],[0.1111111111111111,\"#46039f\"],[0.2222222222222222,\"#7201a8\"],[0.3333333333333333,\"#9c179e\"],[0.4444444444444444,\"#bd3786\"],[0.5555555555555556,\"#d8576b\"],[0.6666666666666666,\"#ed7953\"],[0.7777777777777778,\"#fb9f3a\"],[0.8888888888888888,\"#fdca26\"],[1.0,\"#f0f921\"]],\"sequentialminus\":[[0.0,\"#0d0887\"],[0.1111111111111111,\"#46039f\"],[0.2222222222222222,\"#7201a8\"],[0.3333333333333333,\"#9c179e\"],[0.4444444444444444,\"#bd3786\"],[0.5555555555555556,\"#d8576b\"],[0.6666666666666666,\"#ed7953\"],[0.7777777777777778,\"#fb9f3a\"],[0.8888888888888888,\"#fdca26\"],[1.0,\"#f0f921\"]]},\"colorway\":[\"#636efa\",\"#EF553B\",\"#00cc96\",\"#ab63fa\",\"#FFA15A\",\"#19d3f3\",\"#FF6692\",\"#B6E880\",\"#FF97FF\",\"#FECB52\"],\"font\":{\"color\":\"#2a3f5f\"},\"geo\":{\"bgcolor\":\"white\",\"lakecolor\":\"white\",\"landcolor\":\"#E5ECF6\",\"showlakes\":true,\"showland\":true,\"subunitcolor\":\"white\"},\"hoverlabel\":{\"align\":\"left\"},\"hovermode\":\"closest\",\"mapbox\":{\"style\":\"light\"},\"paper_bgcolor\":\"white\",\"plot_bgcolor\":\"#E5ECF6\",\"polar\":{\"angularaxis\":{\"gridcolor\":\"white\",\"linecolor\":\"white\",\"ticks\":\"\"},\"bgcolor\":\"#E5ECF6\",\"radialaxis\":{\"gridcolor\":\"white\",\"linecolor\":\"white\",\"ticks\":\"\"}},\"scene\":{\"xaxis\":{\"backgroundcolor\":\"#E5ECF6\",\"gridcolor\":\"white\",\"gridwidth\":2,\"linecolor\":\"white\",\"showbackground\":true,\"ticks\":\"\",\"zerolinecolor\":\"white\"},\"yaxis\":{\"backgroundcolor\":\"#E5ECF6\",\"gridcolor\":\"white\",\"gridwidth\":2,\"linecolor\":\"white\",\"showbackground\":true,\"ticks\":\"\",\"zerolinecolor\":\"white\"},\"zaxis\":{\"backgroundcolor\":\"#E5ECF6\",\"gridcolor\":\"white\",\"gridwidth\":2,\"linecolor\":\"white\",\"showbackground\":true,\"ticks\":\"\",\"zerolinecolor\":\"white\"}},\"shapedefaults\":{\"line\":{\"color\":\"#2a3f5f\"}},\"ternary\":{\"aaxis\":{\"gridcolor\":\"white\",\"linecolor\":\"white\",\"ticks\":\"\"},\"baxis\":{\"gridcolor\":\"white\",\"linecolor\":\"white\",\"ticks\":\"\"},\"bgcolor\":\"#E5ECF6\",\"caxis\":{\"gridcolor\":\"white\",\"linecolor\":\"white\",\"ticks\":\"\"}},\"title\":{\"x\":0.05},\"xaxis\":{\"automargin\":true,\"gridcolor\":\"white\",\"linecolor\":\"white\",\"ticks\":\"\",\"title\":{\"standoff\":15},\"zerolinecolor\":\"white\",\"zerolinewidth\":2},\"yaxis\":{\"automargin\":true,\"gridcolor\":\"white\",\"linecolor\":\"white\",\"ticks\":\"\",\"title\":{\"standoff\":15},\"zerolinecolor\":\"white\",\"zerolinewidth\":2}}},\"title\":{\"text\":\"Deaths per capita\"}},                        {\"responsive\": true}                    ).then(function(){\n",
       "                            \n",
       "var gd = document.getElementById('8987d7dc-3392-4e06-9a13-097ababe9a48');\n",
       "var x = new MutationObserver(function (mutations, observer) {{\n",
       "        var display = window.getComputedStyle(gd).display;\n",
       "        if (!display || display === 'none') {{\n",
       "            console.log([gd, 'removed!']);\n",
       "            Plotly.purge(gd);\n",
       "            observer.disconnect();\n",
       "        }}\n",
       "}});\n",
       "\n",
       "// Listen for the removal of the full notebook cells\n",
       "var notebookContainer = gd.closest('#notebook-container');\n",
       "if (notebookContainer) {{\n",
       "    x.observe(notebookContainer, {childList: true});\n",
       "}}\n",
       "\n",
       "// Listen for the clearing of the current output cell\n",
       "var outputEl = gd.closest('.output');\n",
       "if (outputEl) {{\n",
       "    x.observe(outputEl, {childList: true});\n",
       "}}\n",
       "\n",
       "                        })                };                });            </script>        </div>"
      ]
     },
     "metadata": {},
     "output_type": "display_data"
    }
   ],
   "source": [
    "dpc = deaths.loc[:, ['Province_State', '12/8/21']]\n",
    "dpc = dpc[dpc['Province_State'].isin(x.index)].set_index('Province_State').groupby('Province_State').agg(sum)\n",
    "\n",
    "states = [ 'AK', 'AL', 'AR', 'AZ', 'CA', 'CO', 'CT', 'DC', 'DE', 'FL', 'GA',\n",
    "           'HI', 'IA', 'ID', 'IL', 'IN', 'KS', 'KY', 'LA', 'MA', 'MD', 'ME',\n",
    "           'MI', 'MN', 'MO', 'MS', 'MT', 'NC', 'ND', 'NE', 'NH', 'NJ', 'NM',\n",
    "           'NV', 'NY', 'OH', 'OK', 'OR', 'PA', 'RI', 'SC', 'SD', 'TN', 'TX',\n",
    "           'UT', 'VA', 'VT', 'WA', 'WI', 'WV', 'WY']\n",
    "\n",
    "dpc['code'] = states\n",
    "dpc['dpc'] = dpc['12/8/21'] / deaths_vaccinations['POPESTIMATE2020']\n",
    "\n",
    "fig = go.Figure(data=go.Choropleth(\n",
    "    locations=dpc['code'],\n",
    "    z = dpc['dpc'], \n",
    "    locationmode = 'USA-states', \n",
    "    colorscale = 'Reds',\n",
    "    colorbar_title = \"Deaths\",\n",
    "))\n",
    "\n",
    "fig.update_layout(\n",
    "    title_text = 'Deaths per capita',\n",
    "    geo_scope='usa', \n",
    ")\n",
    "\n",
    "fig.show()"
   ]
  },
  {
   "cell_type": "markdown",
   "id": "cb8bc5f0",
   "metadata": {
    "deletable": false,
    "editable": false
   },
   "source": [
    "---\n",
    "\n",
    "To double-check your work, the cell below will rerun all of the autograder tests."
   ]
  },
  {
   "cell_type": "code",
   "execution_count": null,
   "id": "dd82aee6",
   "metadata": {
    "deletable": false,
    "editable": false
   },
   "outputs": [
    {
     "data": {
      "text/plain": [
       "q1a results: All test cases passed!\n",
       "\n",
       "q1d results: All test cases passed!\n",
       "\n",
       "q1e results: All test cases passed!\n",
       "\n",
       "q5b results: All test cases passed!\n",
       "\n",
       "q5d results: All test cases passed!\n",
       "\n",
       "q5f results: All test cases passed!\n",
       "\n",
       "q5g results: All test cases passed!\n",
       "\n",
       "q5i results: All test cases passed!"
      ]
     },
     "execution_count": 322,
     "metadata": {},
     "output_type": "execute_result"
    }
   ],
   "source": [
    "grader.check_all()"
   ]
  },
  {
   "cell_type": "markdown",
   "id": "7ecfb50d",
   "metadata": {
    "deletable": false,
    "editable": false
   },
   "source": [
    "## Submission\n",
    "\n",
    "Make sure you have run all cells in your notebook in order before running the cell below, so that all images/graphs appear in the output. The cell below will generate a zip file for you to submit. **Please save before exporting!**"
   ]
  },
  {
   "cell_type": "code",
   "execution_count": null,
   "id": "febbeabf",
   "metadata": {
    "deletable": false,
    "editable": false
   },
   "outputs": [
    {
     "data": {
      "text/html": [
       "\n",
       "            <p>Your submission has been exported. Click <a href=\"covid_part2_2021_12_13T19_45_16_141531.zip\" download=\"covid_part2_2021_12_13T19_45_16_141531.zip\" target=\"_blank\">here</a>\n",
       "            to download the zip file.</p>\n",
       "            "
      ],
      "text/plain": [
       "<IPython.core.display.HTML object>"
      ]
     },
     "metadata": {},
     "output_type": "display_data"
    }
   ],
   "source": [
    "# Save your notebook first, then run this cell to export your submission.\n",
    "grader.export()"
   ]
  },
  {
   "cell_type": "markdown",
   "id": "fd5501bd",
   "metadata": {},
   "source": [
    " "
   ]
  }
 ],
 "metadata": {
  "kernelspec": {
   "display_name": "Python 3 (ipykernel)",
   "language": "python",
   "name": "python3"
  },
  "language_info": {
   "codemirror_mode": {
    "name": "ipython",
    "version": 3
   },
   "file_extension": ".py",
   "mimetype": "text/x-python",
   "name": "python",
   "nbconvert_exporter": "python",
   "pygments_lexer": "ipython3",
   "version": "3.9.7"
  }
 },
 "nbformat": 4,
 "nbformat_minor": 5
}
